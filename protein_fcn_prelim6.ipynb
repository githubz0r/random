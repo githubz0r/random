{
 "cells": [
  {
   "cell_type": "markdown",
   "metadata": {},
   "source": [
    "Trying to make a FCN to predict dihedral angles. Some of the code adapted from Jeppe's openprotein https://github.com/biolib/openprotein. The data is from https://github.com/aqlaboratory/proteinnet casp7, text based."
   ]
  },
  {
   "cell_type": "code",
   "execution_count": 1,
   "metadata": {},
   "outputs": [],
   "source": [
    "import numpy as np\n",
    "import torch\n",
    "import imp\n",
    "import re\n",
    "from torch.nn.utils.rnn import pad_sequence"
   ]
  },
  {
   "cell_type": "code",
   "execution_count": 2,
   "metadata": {},
   "outputs": [],
   "source": [
    "aa_id_dict = {'A': 0, 'C': 1, 'D': 2, 'E': 3, 'F': 4, 'G': 5, 'H': 6, 'I': 7,\n",
    "              'K': 8, 'L': 9, 'M': 10, 'N': 11, 'P': 12, 'Q': 13, 'R': 14, \n",
    "              'S': 15, 'T': 16, 'V': 17, 'W': 18, 'Y': 19}\n"
   ]
  },
  {
   "cell_type": "markdown",
   "metadata": {},
   "source": [
    "First define some helper functions."
   ]
  },
  {
   "cell_type": "code",
   "execution_count": 3,
   "metadata": {},
   "outputs": [],
   "source": [
    "def aa_to_onehot(aa_str, aa_to_nr, mask=None):\n",
    "    \"\"\"\n",
    "    Onehot encode an amino acid string using a letter to number dictionary.\n",
    "    The mask (from proteinnet files) is used to remove residues missing atoms from the primary sequence.\n",
    "    \"\"\"\n",
    "    if mask!=None:\n",
    "        mask_ind = np.asarray([x=='+' for x in mask])*1\n",
    "        mask_ind = np.nonzero(mask_ind)\n",
    "        aa_str = \"\".join([aa_str[x] for x in mask_ind[0]]) # the mask indices are a list in a list\n",
    "    init_array = np.zeros( (len(aa_to_nr.keys()), len(aa_str)) )\n",
    "    for i,j in enumerate(aa_str):\n",
    "        init_array[aa_to_nr[j], i] = 1\n",
    "    return(init_array)"
   ]
  },
  {
   "cell_type": "code",
   "execution_count": 4,
   "metadata": {},
   "outputs": [],
   "source": [
    "def read_proteinnet_file(file, stop_at=1000, verbose=True):\n",
    "    \"\"\"\n",
    "    Read a proteinnet file. Will also filter the 3D coordinates using the mask\n",
    "    and remove proteins with chainbreaks and missing structures. \n",
    "    A certain number of proteins are loaded.\n",
    "    \"\"\"\n",
    "    protein_dict = {}\n",
    "    with open(file) as input:\n",
    "        lines = input.readlines()\n",
    "        curr_id = None\n",
    "        for i, line in enumerate(lines):\n",
    "            line = line.strip()\n",
    "            if line == '[ID]':\n",
    "                curr_id = lines[i+1].strip()\n",
    "                protein_dict[curr_id] = {}\n",
    "                protein_dict[curr_id]['primary'] = lines[i+3].strip()\n",
    "            if line == '[TERTIARY]':\n",
    "                coords = []\n",
    "                for j in range(3):\n",
    "                    coords.append(np.fromstring(lines[i+j+1], sep='\\t'))\n",
    "                protein_dict[curr_id]['tertiary'] = np.array(coords)\n",
    "            if line == '[MASK]':\n",
    "                protein_dict[curr_id]['mask'] = lines[i+1].strip()\n",
    "            if len(protein_dict.keys()) >= stop_at:\n",
    "                break\n",
    "    filter_seqs(protein_dict, verbose)\n",
    "    return(protein_dict)"
   ]
  },
  {
   "cell_type": "code",
   "execution_count": 15,
   "metadata": {},
   "outputs": [],
   "source": [
    "def filter_coords(coords, mask):\n",
    "    \"\"\"\n",
    "    Filter atomic coordinates (for residues missing some) using the mask.\n",
    "    coords = 3*(N*3) array, since each residue has N, CA and C\n",
    "    \"\"\"\n",
    "    mask = np.array([x=='+' for x in mask])\n",
    "    mask_stretched = np.repeat(mask, 3)\n",
    "    coords_filt = coords[:, mask_stretched]\n",
    "    return(coords_filt)\n",
    "\n",
    "def filter_seqs(protein_dict, verbose):\n",
    "    re_chainbreak = re.compile(\"\\-*\\+*\\+\\-+\\+\\+*\\-*\") # match for a mask with internal chainbreaks\n",
    "    keys_to_remove = {}\n",
    "    for key in protein_dict.keys():\n",
    "        if len(protein_dict[key].keys()) < 3:\n",
    "            keys_to_remove[key] = ' missing structure, removing...'\n",
    "            continue\n",
    "        mask = protein_dict[key]['mask']\n",
    "        if re_chainbreak.search(mask):\n",
    "            keys_to_remove[key] = \" has a chainbreak, removing...\"\n",
    "        else:\n",
    "            coords = protein_dict[key]['tertiary']\n",
    "            coords_filt = filter_coords(coords, mask)\n",
    "            protein_dict[key]['tertiary'] = coords_filt\n",
    "    for key in keys_to_remove.keys():\n",
    "        if verbose:\n",
    "            print(key, keys_to_remove[key])\n",
    "        del protein_dict[key]\n",
    "\n",
    "def new_dihedral(p0, p1, p2, p3):\n",
    "    \"\"\"Praxeolitic formula\n",
    "    1 sqrt, 1 cross product\n",
    "    \n",
    "    copied from \n",
    "    https://stackoverflow.com/questions/20305272/\n",
    "    dihedral-torsion-angle-from-four-points-in-cartesian-coordinates-in-python\"\"\"\n",
    "\n",
    "    b0 = -1.0*(p1 - p0)\n",
    "    b1 = p2 - p1\n",
    "    b2 = p3 - p2\n",
    "\n",
    "    # normalize b1 so that it does not influence magnitude of vector\n",
    "    # rejections that come next\n",
    "    b1 /= np.linalg.norm(b1)\n",
    "\n",
    "    # vector rejections\n",
    "    # v = projection of b0 onto plane perpendicular to b1\n",
    "    #   = b0 minus component that aligns with b1\n",
    "    # w = projection of b2 onto plane perpendicular to b1\n",
    "    #   = b2 minus component that aligns with b1\n",
    "    v = b0 - np.dot(b0, b1)*b1\n",
    "    w = b2 - np.dot(b2, b1)*b1\n",
    "\n",
    "    # angle between v and w in a plane is the torsion angle\n",
    "    # v and w may not be normalized but that's fine since tan is y/x\n",
    "    x = np.dot(v, w)\n",
    "    y = np.dot(np.cross(b1, v), w)\n",
    "    #return np.degrees(np.arctan2(y, x))\n",
    "    return np.arctan2(y, x)\n",
    "\n",
    "def calc_angles(coords):\n",
    "    '''\n",
    "    Basically loops over the coordinates and calculates the dihedral angles.\n",
    "    There should be ways to do this with vectorized computations but I don't know how.\n",
    "    '''\n",
    "    N = coords.shape[1]\n",
    "    angles_all = []\n",
    "    for i in range(0, N-3, 3):\n",
    "        psi = new_dihedral(*[coords[:, x] for x in range(i, i+4)])\n",
    "        omega = new_dihedral(*[coords[:, x] for x in range(i+1, i+5)])\n",
    "        phi = new_dihedral(*[coords[:, x] for x in range(i+2, i+6)])\n",
    "        angles = [psi, omega, phi]\n",
    "        angles_all.append(angles)\n",
    "    return(np.array(angles_all))"
   ]
  },
  {
   "cell_type": "markdown",
   "metadata": {},
   "source": [
    "Load some proteins."
   ]
  },
  {
   "cell_type": "code",
   "execution_count": 16,
   "metadata": {},
   "outputs": [],
   "source": [
    "train_proteins = read_proteinnet_file('/Users/Deathvoodoo/big_folders_docs/data/casp7/training_70', 5000, verbose=False)\n",
    "val_proteins = read_proteinnet_file('/Users/Deathvoodoo/big_folders_docs/data/casp7/validation', 500, verbose=False)"
   ]
  },
  {
   "cell_type": "markdown",
   "metadata": {},
   "source": [
    "Use the function below to transform the sequences and coordinates into one-hot encoding and dihedral angles. The easiest thing to do would be to pad everything to the length of the longest protein and put it in one tensor, but this has consequences for the output of the network later (nonzero outputs at places that should be zero).\n",
    "<br>\n",
    "<br>\n",
    "Note that since I don't have access to powerful compute resources I'm only running with a small number of proteins for training and validation."
   ]
  },
  {
   "cell_type": "code",
   "execution_count": 17,
   "metadata": {},
   "outputs": [],
   "source": [
    "def get_onehot_angles(protein_dict, pad, max_length=1500):\n",
    "    \"\"\"\n",
    "    Get onehot sequence and calculate angles from 3d coords for the protein dictionary.\n",
    "    Sometimes the angle calculation will produce nans, we remove those sequences.\n",
    "    If pad==True we will numbers as tensors, otherwise lists, along with remaining ids.\n",
    "    \"\"\"\n",
    "    remaining_ids = list(protein_dict.keys())\n",
    "    sequence_list = []\n",
    "    angle_list = []\n",
    "    for key in protein_dict.keys():\n",
    "        sequence = aa_to_onehot(protein_dict[key]['primary'], aa_id_dict, protein_dict[key]['mask'])\n",
    "        coords = protein_dict[key]['tertiary']\n",
    "        angles = calc_angles(coords).T\n",
    "        if pad:\n",
    "            if max_length-sequence.shape[0] < 0:\n",
    "                print(key, ' exceeds max length: ', max_length, ' , skipping...')\n",
    "                continue\n",
    "            else:\n",
    "                sequence_padded = np.pad(\n",
    "                    sequence, pad_width = ((0,0), (0, max_length-sequence.shape[1])), \n",
    "                    constant_values = 0)\n",
    "                sequence_list.append(sequence_padded)\n",
    "                angles_padded = np.pad(\n",
    "                    angles, pad_width = ((0,0), (0, max_length-sequence.shape[1])),\n",
    "                    constant_values = 0)\n",
    "                angle_list.append(angles_padded)\n",
    "        else: \n",
    "            angle_list.append(angles)\n",
    "            sequence_list.append(sequence)\n",
    "    N = len(sequence_list)\n",
    "    have_nans = []\n",
    "    for i,j in enumerate(angle_list):\n",
    "        if np.isnan(j).any():\n",
    "            have_nans.append(i)\n",
    "    inds_to_keep = np.arange(N)[np.logical_not(np.isin(np.arange(N), have_nans))].tolist()\n",
    "    \n",
    "    sequence_list = [sequence_list[i] for i in inds_to_keep]\n",
    "    angle_list = [angle_list[i] for i in inds_to_keep]\n",
    "    remaining_ids = [remaining_ids[i] for i in inds_to_keep]\n",
    "    if pad:\n",
    "        sequence_tensor = torch.tensor(sequence_list).float()\n",
    "        sequence_tensor = sequence_tensor.unsqueeze(1)\n",
    "        angle_tensor = torch.tensor(angle_list).float()\n",
    "        angle_tensor = angle_tensor.unsqueeze(1)\n",
    "        return([sequence_tensor, angle_tensor, remaining_ids])\n",
    "    else:\n",
    "        for i in range(len(sequence_list)):\n",
    "            ith_seq = (torch.tensor(sequence_list[i]).float()).unsqueeze(0)\n",
    "            sequence_list[i] = ith_seq.unsqueeze(0)\n",
    "            ith_angles = (torch.tensor(angle_list[i]).float()).unsqueeze(0)\n",
    "            angle_list[i] = ith_angles.unsqueeze(0)\n",
    "        return([sequence_list, angle_list, remaining_ids])"
   ]
  },
  {
   "cell_type": "code",
   "execution_count": 18,
   "metadata": {},
   "outputs": [
    {
     "name": "stderr",
     "output_type": "stream",
     "text": [
      "/usr/local/lib/python3.7/site-packages/ipykernel_launcher.py:44: RuntimeWarning: invalid value encountered in true_divide\n"
     ]
    }
   ],
   "source": [
    "train_seqs, train_angles, train_ids_remain = get_onehot_angles(train_proteins, pad=False)"
   ]
  },
  {
   "cell_type": "code",
   "execution_count": 19,
   "metadata": {},
   "outputs": [
    {
     "name": "stderr",
     "output_type": "stream",
     "text": [
      "/usr/local/lib/python3.7/site-packages/ipykernel_launcher.py:44: RuntimeWarning: invalid value encountered in true_divide\n"
     ]
    }
   ],
   "source": [
    "val_seqs, val_angles, val_ids_remain = get_onehot_angles(val_proteins, pad=False)"
   ]
  },
  {
   "cell_type": "markdown",
   "metadata": {},
   "source": [
    "We write a dataset class for the torch DataLoader. Since we also want to pad the minibatches instead of everything, we also need a custom collate function to deal with this. "
   ]
  },
  {
   "cell_type": "code",
   "execution_count": 20,
   "metadata": {},
   "outputs": [],
   "source": [
    "from torch.utils.data import Dataset\n",
    "class proteindataset(torch.utils.data.Dataset):\n",
    "    def __init__(self, seqs, angles):\n",
    "        self.sequences = seqs\n",
    "        self.angles = angles\n",
    "\n",
    "    def __len__(self):\n",
    "        return len(self.sequences)\n",
    "\n",
    "    def __getitem__(self, idx):\n",
    "        return [self.sequences[idx], self.angles[idx]]\n",
    "\n",
    "def protein_collate(batch):\n",
    "    seqs = [item[0] for item in batch]\n",
    "    angles = [item[1] for item in batch]\n",
    "    max_len = max([x.shape[3] for x in seqs])\n",
    "    for i in range(len(batch)):\n",
    "        curr_len = seqs[i].shape[3]\n",
    "        seq_padded = np.pad(seqs[i], ((0,0), (0,0 ), (0,0), (0,max_len-curr_len)), constant_values = 0)\n",
    "        angles_padded = np.pad(angles[i], ((0,0), (0,0 ), (0,0), (0,max_len-curr_len)), constant_values = 0)\n",
    "        seqs[i] = torch.tensor(seq_padded)\n",
    "        angles[i] = torch.tensor(angles_padded)\n",
    "    seq_tensor = torch.cat(seqs, 0)\n",
    "    angle_tensor = torch.cat(angles, 0)\n",
    "    return([seq_tensor, angle_tensor])\n",
    "    "
   ]
  },
  {
   "cell_type": "code",
   "execution_count": 21,
   "metadata": {},
   "outputs": [],
   "source": [
    "train_dataset = proteindataset(train_seqs, train_angles)\n",
    "val_dataset = proteindataset(val_seqs, val_angles)"
   ]
  },
  {
   "cell_type": "code",
   "execution_count": 22,
   "metadata": {},
   "outputs": [],
   "source": [
    "trainloader = torch.utils.data.DataLoader(train_dataset, batch_size=4,\n",
    "                                          shuffle=True, num_workers=2, collate_fn=protein_collate)\n",
    "valloader = torch.utils.data.DataLoader(val_dataset, batch_size=100,\n",
    "                                         shuffle=False, num_workers=2, collate_fn=protein_collate)\n",
    "#testloader = torch.utils.data.DataLoader(test_dataset, batch_size=100,\n",
    "                                         #shuffle=False, num_workers=2)"
   ]
  },
  {
   "cell_type": "markdown",
   "metadata": {},
   "source": [
    "Running a FCN with squared loss for training. Squared loss is probably not ideal (i.e. pi and -pi are not 2pi apart) but I'll use it for now. \n",
    "<br>\n",
    "First half of the network does convolution and the second half does up-convolution. It also has some skip connections a the U-NET architecture.\n",
    "<br>\n",
    "<br>\n",
    "Note that I encoded the proteins as $N*C*N_{aa}*L$ where $C$ = 1 and $N_{aa}$ = 20, but actually it makes a lot more sense to just use the number of amino acids as channels and just do 1D convolution, since they provide no spatial information."
   ]
  },
  {
   "cell_type": "code",
   "execution_count": 23,
   "metadata": {},
   "outputs": [],
   "source": [
    "import torch.nn as nn\n",
    "import torch.nn.functional as F\n",
    "import torch.optim as optim\n",
    "\n",
    "\n",
    "class Net(nn.Module):\n",
    "    def __init__(self):\n",
    "        super(Net, self).__init__()\n",
    "        self.conv0 = nn.Conv2d(1, 3, (20, 1))\n",
    "        self.conv0_bn = torch.nn.BatchNorm2d(3)\n",
    "        self.conv1 = nn.Conv2d(3, 6, (1, 4))\n",
    "        self.conv1_bn = torch.nn.BatchNorm2d(6)\n",
    "        self.conv2 = nn.Conv2d(6, 12, (1, 4))\n",
    "        self.conv2_bn = torch.nn.BatchNorm2d(12)\n",
    "        self.conv3 = nn.Conv2d(12, 24, (1, 6))\n",
    "        self.conv3_bn = torch.nn.BatchNorm2d(24)\n",
    "        self.conv4 = nn.Conv2d(24, 24, (1, 1))\n",
    "        self.conv4_bn = torch.nn.BatchNorm2d(24)\n",
    "        \n",
    "        self.deconv1 = nn.ConvTranspose2d(in_channels=24, out_channels=12, kernel_size=(1, 6))\n",
    "        self.deconv1_bn = torch.nn.BatchNorm2d(12)\n",
    "        self.conv5 = nn.Conv2d(24, 24, (1,1))\n",
    "        self.conv5_bn = torch.nn.BatchNorm2d(24)\n",
    "        self.deconv2 = nn.ConvTranspose2d(in_channels=24, out_channels=6, kernel_size=(1, 4))\n",
    "        self.deconv2_bn = torch.nn.BatchNorm2d(6)\n",
    "        self.conv6 = nn.Conv2d(12, 12, (1,1))\n",
    "        self.conv6_bn = torch.nn.BatchNorm2d(12)\n",
    "        self.deconv3 = nn.ConvTranspose2d(in_channels=12, out_channels=6, kernel_size=(3, 3))\n",
    "        self.deconv3_bn = torch.nn.BatchNorm2d(6)\n",
    "        self.conv7 = nn.Conv2d(6, 1, (1,1))\n",
    "        self.conv7_bn = torch.nn.BatchNorm2d(1)\n",
    "        self.conv8 = nn.Conv2d(1, 1, (1,1))\n",
    "        self.conv8_bn = torch.nn.BatchNorm2d(1)\n",
    "        self.conv9 = nn.Conv2d(1, 1, (1,1))\n",
    "\n",
    "    def forward(self, x):\n",
    "        conv0_out = F.relu(self.conv0_bn(self.conv0(x)))\n",
    "        conv1_out = F.relu(self.conv1_bn(self.conv1(conv0_out)))\n",
    "        conv2_out = F.relu(self.conv2_bn(self.conv2(conv1_out)))\n",
    "        conv3_out = F.relu(self.conv3_bn(self.conv3(conv2_out)))\n",
    "        conv4_out = F.relu(self.conv4_bn(self.conv4(conv3_out)))\n",
    "\n",
    "        deconv1_out = F.relu(self.deconv1_bn(self.deconv1(conv4_out)))\n",
    "        deconv2_input = torch.cat((conv2_out, deconv1_out), 1)\n",
    "        conv5_out = F.relu(self.conv5_bn(self.conv5(deconv2_input)))\n",
    "        \n",
    "        deconv2_out = F.relu(self.deconv2_bn(self.deconv2(conv5_out)))\n",
    "        deconv3_input = torch.cat((conv1_out, deconv2_out), 1)\n",
    "        conv6_out = F.relu(self.conv6_bn(self.conv6(deconv3_input)))\n",
    "        \n",
    "        deconv3_out = F.relu(self.deconv3_bn(self.deconv3(conv6_out)))\n",
    "        conv7_out = F.relu(self.conv7_bn(self.conv7(deconv3_out)))\n",
    "        conv8_out = F.relu(self.conv8_bn(self.conv8(conv7_out)))\n",
    "        conv9_out = self.conv9(conv8_out)\n",
    "        return conv9_out\n",
    "\n"
   ]
  },
  {
   "cell_type": "markdown",
   "metadata": {},
   "source": [
    "Train the network."
   ]
  },
  {
   "cell_type": "code",
   "execution_count": 24,
   "metadata": {},
   "outputs": [
    {
     "name": "stdout",
     "output_type": "stream",
     "text": [
      "epoch: 0, iteration: 197] training loss: 2.783103596080433, validation_loss: 4.302130959604097\n",
      "epoch: 0, iteration: 395] training loss: 2.5267526964948637, validation_loss: 4.289084224597265\n",
      "new best validation loss, saving..\n",
      "epoch: 0, iteration: 593] training loss: 2.4757866155017507, validation_loss: 4.2954955010310485\n",
      "epoch: 0, iteration: 791] training loss: 2.4966613752673372, validation_loss: 4.2756686081057\n",
      "new best validation loss, saving..\n",
      "epoch: 0, iteration: 989] training loss: 2.529940300517612, validation_loss: 4.27451377718345\n",
      "new best validation loss, saving..\n",
      "epoch: 1, iteration: 197] training loss: 2.5080334201003565, validation_loss: 4.280141868021175\n",
      "epoch: 1, iteration: 395] training loss: 2.572692923473589, validation_loss: 4.286817585644516\n",
      "epoch: 1, iteration: 593] training loss: 2.541397589023667, validation_loss: 4.264641249957291\n",
      "new best validation loss, saving..\n",
      "epoch: 1, iteration: 791] training loss: 2.493474284205774, validation_loss: 4.268356919288636\n",
      "epoch: 1, iteration: 989] training loss: 2.4989839936747695, validation_loss: 4.262478805106618\n",
      "new best validation loss, saving..\n",
      "epoch: 2, iteration: 197] training loss: 2.537966726404248, validation_loss: 4.264427172101063\n",
      "epoch: 2, iteration: 395] training loss: 2.489988411917831, validation_loss: 4.266916990280151\n",
      "epoch: 2, iteration: 593] training loss: 2.510250327563045, validation_loss: 4.267100785089575\n",
      "epoch: 2, iteration: 791] training loss: 2.506495322843995, validation_loss: 4.262126388757124\n",
      "new best validation loss, saving..\n",
      "epoch: 2, iteration: 989] training loss: 2.4746211514328467, validation_loss: 4.2668999290984635\n",
      "epoch: 3, iteration: 197] training loss: 2.5121523111757607, validation_loss: 4.2761220284130275\n",
      "epoch: 3, iteration: 395] training loss: 2.442089988727762, validation_loss: 4.350811302661896\n",
      "epoch: 3, iteration: 593] training loss: 2.441954090137674, validation_loss: 4.282491427400838\n",
      "epoch: 3, iteration: 791] training loss: 2.5213732033064873, validation_loss: 4.263226947058804\n",
      "epoch: 3, iteration: 989] training loss: 2.5030950488466206, validation_loss: 4.263427295114681\n",
      "epoch: 4, iteration: 197] training loss: 2.433634187838044, validation_loss: 4.30139806607495\n",
      "epoch: 4, iteration: 395] training loss: 2.522833971062092, validation_loss: 4.261553970368011\n",
      "new best validation loss, saving..\n",
      "epoch: 4, iteration: 593] training loss: 2.4986564751827354, validation_loss: 4.2653065155381755\n",
      "epoch: 4, iteration: 791] training loss: 2.5141025703362745, validation_loss: 4.26658088746278\n",
      "epoch: 4, iteration: 989] training loss: 2.509493782062723, validation_loss: 4.2777249631674374\n",
      "epoch: 5, iteration: 197] training loss: 2.47169165960466, validation_loss: 4.264446763888647\n",
      "epoch: 5, iteration: 395] training loss: 2.463094352471708, validation_loss: 4.261251573977264\n",
      "new best validation loss, saving..\n",
      "epoch: 5, iteration: 593] training loss: 2.4520391298062876, validation_loss: 4.2702923132025665\n",
      "epoch: 5, iteration: 791] training loss: 2.5585572882132097, validation_loss: 4.26179916832758\n",
      "epoch: 5, iteration: 989] training loss: 2.4896044472251275, validation_loss: 4.261063464309857\n",
      "new best validation loss, saving..\n",
      "epoch: 6, iteration: 197] training loss: 2.50588807553956, validation_loss: 4.223197978475821\n",
      "new best validation loss, saving..\n",
      "epoch: 6, iteration: 395] training loss: 2.5028008884853787, validation_loss: 4.2244839085185015\n",
      "epoch: 6, iteration: 593] training loss: 2.4952205714553295, validation_loss: 4.225566213545591\n",
      "epoch: 6, iteration: 791] training loss: 2.4759050716053355, validation_loss: 4.2146074707093435\n",
      "new best validation loss, saving..\n",
      "epoch: 6, iteration: 989] training loss: 2.4545916385120816, validation_loss: 4.205903667470684\n",
      "new best validation loss, saving..\n",
      "epoch: 7, iteration: 197] training loss: 2.502744755359611, validation_loss: 4.210819249567779\n",
      "epoch: 7, iteration: 395] training loss: 2.471079773373074, validation_loss: 4.24672245979309\n",
      "epoch: 7, iteration: 593] training loss: 2.5553628513307283, validation_loss: 4.202356935843176\n",
      "new best validation loss, saving..\n",
      "epoch: 7, iteration: 791] training loss: 2.47541041988315, validation_loss: 4.20390201262806\n",
      "epoch: 7, iteration: 989] training loss: 2.4988449107516897, validation_loss: 4.220725953578949\n",
      "epoch: 8, iteration: 197] training loss: 2.4904896978176003, validation_loss: 4.20157244801521\n",
      "new best validation loss, saving..\n",
      "epoch: 8, iteration: 395] training loss: 2.447486313906583, validation_loss: 4.2253709603910865\n",
      "epoch: 8, iteration: 593] training loss: 2.4712484948562854, validation_loss: 4.216950718475424\n",
      "epoch: 8, iteration: 791] training loss: 2.4787643690301913, validation_loss: 4.2064929850723445\n",
      "epoch: 8, iteration: 989] training loss: 2.4761706939851393, validation_loss: 4.200260698795318\n",
      "new best validation loss, saving..\n",
      "epoch: 9, iteration: 197] training loss: 2.4420543812742137, validation_loss: 4.200452461190846\n",
      "epoch: 9, iteration: 395] training loss: 2.4238269389277756, validation_loss: 4.173720953257187\n",
      "new best validation loss, saving..\n",
      "epoch: 9, iteration: 593] training loss: 2.3477654077790002, validation_loss: 4.786877860193669\n",
      "epoch: 9, iteration: 791] training loss: 2.3210290857035702, validation_loss: 4.06324179146601\n",
      "new best validation loss, saving..\n",
      "epoch: 9, iteration: 989] training loss: 2.3898141932005834, validation_loss: 4.062968344792076\n",
      "new best validation loss, saving..\n",
      "epoch: 10, iteration: 197] training loss: 2.3354284823542892, validation_loss: 4.0641381585079674\n",
      "epoch: 10, iteration: 395] training loss: 2.3031292979163354, validation_loss: 4.126535423423936\n",
      "epoch: 10, iteration: 593] training loss: 2.3485167574400854, validation_loss: 4.057635592377704\n",
      "new best validation loss, saving..\n",
      "epoch: 10, iteration: 791] training loss: 2.3120558027065163, validation_loss: 4.168691677891692\n",
      "epoch: 10, iteration: 989] training loss: 2.343945778981604, validation_loss: 4.094045159609419\n",
      "epoch: 11, iteration: 197] training loss: 2.3179091775056087, validation_loss: 4.062478154897688\n",
      "epoch: 11, iteration: 395] training loss: 2.3169563623389813, validation_loss: 4.0823920498723565\n",
      "epoch: 11, iteration: 593] training loss: 2.348136007785797, validation_loss: 4.048944081949151\n",
      "new best validation loss, saving..\n",
      "epoch: 11, iteration: 791] training loss: 2.304881482413321, validation_loss: 4.0933017393817055\n",
      "epoch: 11, iteration: 989] training loss: 2.321006528054825, validation_loss: 4.0788875183333495\n",
      "epoch: 12, iteration: 197] training loss: 2.321584611228018, validation_loss: 4.192394007807193\n",
      "epoch: 12, iteration: 395] training loss: 2.3477808495964667, validation_loss: 4.14693151867908\n",
      "epoch: 12, iteration: 593] training loss: 2.2847353478874823, validation_loss: 4.1613169753033175\n",
      "epoch: 12, iteration: 791] training loss: 2.359800202677948, validation_loss: 4.037373726782591\n",
      "new best validation loss, saving..\n",
      "epoch: 12, iteration: 989] training loss: 2.2882483866479664, validation_loss: 4.0536837163178845\n",
      "epoch: 13, iteration: 197] training loss: 2.285924878987399, validation_loss: 4.040433193030564\n",
      "epoch: 13, iteration: 395] training loss: 2.3453215192062684, validation_loss: 4.028041452169417\n",
      "new best validation loss, saving..\n",
      "epoch: 13, iteration: 593] training loss: 2.321005985592351, validation_loss: 4.062175314063614\n",
      "epoch: 13, iteration: 791] training loss: 2.2978860290363583, validation_loss: 4.029372810021691\n",
      "epoch: 13, iteration: 989] training loss: 2.2719581512489704, validation_loss: 4.018125673998958\n",
      "new best validation loss, saving..\n",
      "epoch: 14, iteration: 197] training loss: 2.328316441088012, validation_loss: 4.0384339094162\n",
      "epoch: 14, iteration: 395] training loss: 2.335954719721669, validation_loss: 4.034142422935237\n",
      "epoch: 14, iteration: 593] training loss: 2.3311530453990206, validation_loss: 4.048851962970648\n",
      "epoch: 14, iteration: 791] training loss: 2.2988230592072614, validation_loss: 4.03577673694362\n",
      "epoch: 14, iteration: 989] training loss: 2.29899174155611, validation_loss: 4.022368462189382\n",
      "epoch: 15, iteration: 197] training loss: 2.3379785514841176, validation_loss: 4.0241751411686755\n",
      "epoch: 15, iteration: 395] training loss: 2.3311447194128325, validation_loss: 4.019187546294669\n",
      "epoch: 15, iteration: 593] training loss: 2.270416669171266, validation_loss: 4.019098402365393\n"
     ]
    },
    {
     "name": "stdout",
     "output_type": "stream",
     "text": [
      "epoch: 15, iteration: 791] training loss: 2.3103434539804555, validation_loss: 4.070637432129489\n",
      "epoch: 15, iteration: 989] training loss: 2.298347909041125, validation_loss: 4.035386019426845\n",
      "epoch: 16, iteration: 197] training loss: 2.284666816393534, validation_loss: 4.027629703283309\n",
      "epoch: 16, iteration: 395] training loss: 2.369631744996466, validation_loss: 4.014045720515045\n",
      "new best validation loss, saving..\n",
      "epoch: 16, iteration: 593] training loss: 2.281357097505319, validation_loss: 4.022340217362282\n",
      "epoch: 16, iteration: 791] training loss: 2.3762808893666123, validation_loss: 4.022471799798632\n",
      "epoch: 16, iteration: 989] training loss: 2.3130472910524618, validation_loss: 4.008514681588049\n",
      "new best validation loss, saving..\n",
      "epoch: 17, iteration: 197] training loss: 2.2833146753937306, validation_loss: 4.019167550232097\n",
      "epoch: 17, iteration: 395] training loss: 2.2829354477651194, validation_loss: 4.0137819621873945\n",
      "epoch: 17, iteration: 593] training loss: 2.26941177519885, validation_loss: 4.028597148864166\n",
      "epoch: 17, iteration: 791] training loss: 2.3107423890720713, validation_loss: 4.019892885633137\n",
      "epoch: 17, iteration: 989] training loss: 2.256362924070069, validation_loss: 5.591919004917144\n",
      "epoch: 18, iteration: 197] training loss: 2.280573779284352, validation_loss: 4.012638180152228\n",
      "epoch: 18, iteration: 395] training loss: 2.3190740160267764, validation_loss: 4.012138572723968\n",
      "epoch: 18, iteration: 593] training loss: 2.3433896730644532, validation_loss: 4.013104326051215\n",
      "epoch: 18, iteration: 791] training loss: 2.329326507419047, validation_loss: 4.025039219337961\n",
      "epoch: 18, iteration: 989] training loss: 2.287612841586874, validation_loss: 4.006826317828633\n",
      "new best validation loss, saving..\n",
      "epoch: 19, iteration: 197] training loss: 2.2914550027461966, validation_loss: 4.007650160271191\n",
      "epoch: 19, iteration: 395] training loss: 2.2989351701254797, validation_loss: 4.0154204135355736\n",
      "epoch: 19, iteration: 593] training loss: 2.2854094047739046, validation_loss: 4.005386977092078\n",
      "new best validation loss, saving..\n",
      "epoch: 19, iteration: 791] training loss: 2.314821116249971, validation_loss: 4.020453633173653\n",
      "epoch: 19, iteration: 989] training loss: 2.337994154053505, validation_loss: 4.005482734545417\n",
      "epoch: 20, iteration: 197] training loss: 2.3281275431315103, validation_loss: 4.0347458150075814\n",
      "epoch: 20, iteration: 395] training loss: 2.3182803482720344, validation_loss: 4.013438518928443\n",
      "epoch: 20, iteration: 593] training loss: 2.244202645138057, validation_loss: 4.015063660300297\n",
      "epoch: 20, iteration: 791] training loss: 2.344843418309183, validation_loss: 4.009570678938989\n",
      "epoch: 20, iteration: 989] training loss: 2.2766432756125323, validation_loss: 4.005213960357335\n",
      "new best validation loss, saving..\n",
      "epoch: 21, iteration: 197] training loss: 2.290585882133908, validation_loss: 4.015854988409124\n",
      "epoch: 21, iteration: 395] training loss: 2.325425624847412, validation_loss: 4.008359026649725\n",
      "epoch: 21, iteration: 593] training loss: 2.303321539753615, validation_loss: 4.0113965959652615\n",
      "epoch: 21, iteration: 791] training loss: 2.3129900206219065, validation_loss: 4.044786454542821\n",
      "epoch: 21, iteration: 989] training loss: 2.316258914542921, validation_loss: 4.011090515748312\n",
      "epoch: 22, iteration: 197] training loss: 2.317160821924306, validation_loss: 4.009215357510941\n",
      "epoch: 22, iteration: 395] training loss: 2.2889003127512306, validation_loss: 4.03755026537439\n",
      "epoch: 22, iteration: 593] training loss: 2.295097798410088, validation_loss: 4.01873230934143\n",
      "epoch: 22, iteration: 791] training loss: 2.28802684160194, validation_loss: 4.006725915100264\n",
      "epoch: 22, iteration: 989] training loss: 2.3076149381772435, validation_loss: 4.067488057457882\n",
      "epoch: 23, iteration: 197] training loss: 2.2917011873890654, validation_loss: 4.160514043725055\n",
      "epoch: 23, iteration: 395] training loss: 2.351570375639983, validation_loss: 4.0065803696279945\n",
      "epoch: 23, iteration: 593] training loss: 2.318661432675641, validation_loss: 4.008193277794382\n",
      "epoch: 23, iteration: 791] training loss: 2.3093430905631096, validation_loss: 4.0309963381808736\n",
      "epoch: 23, iteration: 989] training loss: 2.2393260399500527, validation_loss: 4.025931807963745\n",
      "epoch: 24, iteration: 197] training loss: 2.299475680095981, validation_loss: 4.012383612601656\n",
      "epoch: 24, iteration: 395] training loss: 2.293349665824813, validation_loss: 4.154931632073029\n",
      "epoch: 24, iteration: 593] training loss: 2.3281635888899217, validation_loss: 4.022320782360825\n",
      "epoch: 24, iteration: 791] training loss: 2.3239898157842234, validation_loss: 4.004426028417503\n",
      "new best validation loss, saving..\n",
      "epoch: 24, iteration: 989] training loss: 2.277429836567002, validation_loss: 4.070055011821829\n",
      "Finished Training\n"
     ]
    }
   ],
   "source": [
    "net = Net()\n",
    "\n",
    "criterion = nn.MSELoss()\n",
    "optimizer = optim.Adam(net.parameters(), lr=1e-2)\n",
    "\n",
    "prints_per_epoch = 5\n",
    "\n",
    "verbose_k = np.floor(len(trainloader)/prints_per_epoch)\n",
    "\n",
    "\n",
    "train_losses = []\n",
    "val_losses = []\n",
    "iterations = []\n",
    "best_loss = None\n",
    "\n",
    "for epoch in range(25):\n",
    "\n",
    "    running_loss = 0.0\n",
    "    for i, data in enumerate(trainloader):\n",
    "        sequence, true_angles = data\n",
    "\n",
    "        # zero the parameter gradients\n",
    "        optimizer.zero_grad()\n",
    "\n",
    "        # forward + backward + optimize\n",
    "        predicted_angles = net(sequence)\n",
    "\n",
    "        loss = criterion(predicted_angles, true_angles)\n",
    "        loss.backward()\n",
    "        optimizer.step()\n",
    "        \n",
    "        # print statistics, should add validation loss\n",
    "        running_loss += loss.item()\n",
    "        \n",
    "        if (i+1) % verbose_k == 0:   \n",
    "            train_losses.append(running_loss/verbose_k)\n",
    "            true_iter = len(trainloader)*epoch + i\n",
    "            iterations.append(true_iter)\n",
    "            net.eval()\n",
    "            validation_loss = 0\n",
    "            for k,j in enumerate(val_seqs):\n",
    "                pred_k = net(j)\n",
    "                loss_k = criterion(pred_k, val_angles[k]).item()\n",
    "                validation_loss += loss_k/len(val_seqs)\n",
    "            val_losses.append(validation_loss)\n",
    "            net.train()\n",
    "            print('epoch: {}, iteration: {}] training loss: {}, validation_loss: {}'.format(\n",
    "                epoch, i, running_loss/verbose_k, validation_loss))\n",
    "            \n",
    "            if best_loss == None:\n",
    "                best_loss = validation_loss\n",
    "            else:\n",
    "                if validation_loss <= min(val_losses):\n",
    "                    print('new best validation loss, saving..')\n",
    "                    best_loss = validation_loss\n",
    "                    torch.save(net.state_dict(), 'best_fcn_parameters.pt')\n",
    "\n",
    "            running_loss = 0.0\n",
    "\n",
    "print('Finished Training')"
   ]
  },
  {
   "cell_type": "code",
   "execution_count": 25,
   "metadata": {},
   "outputs": [],
   "source": [
    "net.load_state_dict(torch.load('/Users/Deathvoodoo/big_folders_docs/random/best_fcn_parameters.pt'))\n",
    "\n",
    "net.eval()\n",
    "\n",
    "validation_preds = [net(i) for i in val_seqs]"
   ]
  },
  {
   "cell_type": "code",
   "execution_count": 38,
   "metadata": {},
   "outputs": [
    {
     "data": {
      "image/png": "[encoded data removed]",
      "text/plain": [
       "<Figure size 432x288 with 1 Axes>"
      ]
     },
     "metadata": {
      "needs_background": "light"
     },
     "output_type": "display_data"
    }
   ],
   "source": [
    "import matplotlib.pyplot as plt\n",
    "plt.scatter(iterations, train_losses, label='train loss')\n",
    "plt.scatter(iterations, val_losses, label='validation loss')\n",
    "plt.legend()\n",
    "plt.show()"
   ]
  },
  {
   "cell_type": "markdown",
   "metadata": {},
   "source": [
    "Well, the loss IS decreasing at least a little bit."
   ]
  },
  {
   "cell_type": "code",
   "execution_count": 27,
   "metadata": {},
   "outputs": [],
   "source": [
    "import PeptideBuilder\n",
    "test_protein = val_ids_remain[13]"
   ]
  },
  {
   "cell_type": "code",
   "execution_count": 28,
   "metadata": {},
   "outputs": [],
   "source": [
    "test_angles_real = val_angles[13]\n",
    "test_angles_pred = validation_preds[13].detach()"
   ]
  },
  {
   "cell_type": "code",
   "execution_count": 29,
   "metadata": {},
   "outputs": [
    {
     "data": {
      "text/plain": [
       "torch.Size([1, 1, 3, 431])"
      ]
     },
     "execution_count": 29,
     "metadata": {},
     "output_type": "execute_result"
    }
   ],
   "source": [
    "test_angles_real.shape"
   ]
  },
  {
   "cell_type": "code",
   "execution_count": 30,
   "metadata": {},
   "outputs": [],
   "source": [
    "def make_pb_structure(seq_str, angles):\n",
    "    psi = np.degrees(angles[0, :].tolist())\n",
    "    omega = np.degrees(angles[1, :].tolist())\n",
    "    phi = np.degrees(angles[2, :].tolist())\n",
    "    structure = PeptideBuilder.make_structure(seq_str, phi, psi, omega)\n",
    "    return(structure)"
   ]
  },
  {
   "cell_type": "code",
   "execution_count": 31,
   "metadata": {},
   "outputs": [],
   "source": [
    "test_structure_real = make_pb_structure(val_proteins[test_protein]['primary'], test_angles_real[0, 0, :, :])"
   ]
  },
  {
   "cell_type": "code",
   "execution_count": 32,
   "metadata": {},
   "outputs": [],
   "source": [
    "test_structure_pred = make_pb_structure(val_proteins[test_protein]['primary'], test_angles_pred[0, 0, :, :])"
   ]
  },
  {
   "cell_type": "code",
   "execution_count": 33,
   "metadata": {},
   "outputs": [],
   "source": [
    "import Bio.PDB\n",
    "def write_to_pdb(structure, prot_id, identifier):\n",
    "    out = Bio.PDB.PDBIO()\n",
    "    out.set_structure(structure)\n",
    "    out.save(prot_id + identifier + \".pdb\")"
   ]
  },
  {
   "cell_type": "code",
   "execution_count": 34,
   "metadata": {},
   "outputs": [],
   "source": [
    "write_to_pdb(test_structure_real, test_protein, '_real')\n",
    "write_to_pdb(test_structure_pred, test_protein, '_pred')"
   ]
  },
  {
   "cell_type": "markdown",
   "metadata": {},
   "source": [
    "We can open the saved pdb files in pymol, align them and save the image."
   ]
  },
  {
   "cell_type": "code",
   "execution_count": 3,
   "metadata": {},
   "outputs": [
    {
     "data": {
      "image/png": "[encoded data removed]",
      "text/plain": [
       "<IPython.core.display.Image object>"
      ]
     },
     "metadata": {},
     "output_type": "display_data"
    }
   ],
   "source": [
    "from IPython.display import Image \n",
    "im = Image(filename=\"/Users/Deathvoodoo/big_folders_docs/random/pred_real_aligned.png\")\n",
    "display(im)"
   ]
  },
  {
   "cell_type": "markdown",
   "metadata": {},
   "source": [
    "Checking distribution of angles for the test protein."
   ]
  },
  {
   "cell_type": "code",
   "execution_count": 36,
   "metadata": {},
   "outputs": [
    {
     "name": "stdout",
     "output_type": "stream",
     "text": [
      "tensor(1.9369)\n",
      "tensor(3.1415)\n"
     ]
    }
   ],
   "source": [
    "print(test_angles_pred.max())\n",
    "print(test_angles_real.max())"
   ]
  },
  {
   "cell_type": "code",
   "execution_count": 37,
   "metadata": {},
   "outputs": [
    {
     "name": "stderr",
     "output_type": "stream",
     "text": [
      "/usr/local/lib/python3.7/site-packages/matplotlib/figure.py:2366: UserWarning: This figure includes Axes that are not compatible with tight_layout, so results might be incorrect.\n",
      "  warnings.warn(\"This figure includes Axes that are not compatible \"\n"
     ]
    },
    {
     "data": {
      "image/png": "[encoded data removed]",
      "text/plain": [
       "<Figure size 432x288 with 2 Axes>"
      ]
     },
     "metadata": {
      "needs_background": "light"
     },
     "output_type": "display_data"
    }
   ],
   "source": [
    "fig, axs = plt.subplots(1, 2, sharey=True, tight_layout=True)\n",
    "n_bins=20\n",
    "axs[0].hist(test_angles_real.numpy().flatten(), bins=n_bins)\n",
    "axs[1].hist(test_angles_pred.numpy().flatten(), bins=n_bins)\n",
    "plt.show()"
   ]
  },
  {
   "cell_type": "markdown",
   "metadata": {},
   "source": [
    "They're being squished too much inside a narrow interval."
   ]
  }
 ],
 "metadata": {
  "kernelspec": {
   "display_name": "Python 3",
   "language": "python",
   "name": "python3"
  },
  "language_info": {
   "codemirror_mode": {
    "name": "ipython",
    "version": 3
   },
   "file_extension": ".py",
   "mimetype": "text/x-python",
   "name": "python",
   "nbconvert_exporter": "python",
   "pygments_lexer": "ipython3",
   "version": "3.7.4"
  }
 },
 "nbformat": 4,
 "nbformat_minor": 2
}
