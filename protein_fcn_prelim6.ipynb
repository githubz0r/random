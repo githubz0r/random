{
 "cells": [
  {
   "cell_type": "markdown",
   "metadata": {},
   "source": [
    "Trying to make a FCN to predict dihedral angles. Some of the code adapted from Jeppe's openprotein https://github.com/biolib/openprotein. The data is from https://github.com/aqlaboratory/proteinnet casp7, text based."
   ]
  },
  {
   "cell_type": "code",
   "execution_count": 12,
   "metadata": {},
   "outputs": [],
   "source": [
    "import numpy as np\n",
    "import torch\n",
    "import imp\n",
    "import re\n",
    "from torch.nn.utils.rnn import pad_sequence"
   ]
  },
  {
   "cell_type": "code",
   "execution_count": 13,
   "metadata": {},
   "outputs": [],
   "source": [
    "aa_id_dict = {'A': 0, 'C': 1, 'D': 2, 'E': 3, 'F': 4, 'G': 5, 'H': 6, 'I': 7,\n",
    "              'K': 8, 'L': 9, 'M': 10, 'N': 11, 'P': 12, 'Q': 13, 'R': 14, \n",
    "              'S': 15, 'T': 16, 'V': 17, 'W': 18, 'Y': 19}\n"
   ]
  },
  {
   "cell_type": "code",
   "execution_count": 14,
   "metadata": {},
   "outputs": [],
   "source": [
    "def aa_to_onehot(aa_str, aa_to_nr, mask=None):\n",
    "    \"\"\"\n",
    "    Onehot encode an amino acid string using a letter to number dictionary.\n",
    "    The mask (from proteinnet files) is used to remove residues missing atoms from the primary sequence.\n",
    "    \"\"\"\n",
    "    if mask!=None:\n",
    "        mask_ind = np.asarray([x=='+' for x in mask])*1\n",
    "        mask_ind = np.nonzero(mask_ind)\n",
    "        aa_str = \"\".join([aa_str[x] for x in mask_ind[0]]) # the mask indices are a list in a list\n",
    "    init_array = np.zeros( (len(aa_to_nr.keys()), len(aa_str)) )\n",
    "    for i,j in enumerate(aa_str):\n",
    "        init_array[aa_to_nr[j], i] = 1\n",
    "    return(init_array)"
   ]
  },
  {
   "cell_type": "code",
   "execution_count": 15,
   "metadata": {},
   "outputs": [],
   "source": [
    "def read_proteinnet_file(file, stop_at=1000, verbose=True):\n",
    "    \"\"\"\n",
    "    Read a proteinnet file. Will also filter the 3D coordinates using the mask\n",
    "    and remove proteins with chainbreaks and missing structures.\n",
    "    \"\"\"\n",
    "    protein_dict = {}\n",
    "    with open(file) as input:\n",
    "        lines = input.readlines()\n",
    "        curr_id = None\n",
    "        for i, line in enumerate(lines):\n",
    "            line = line.strip()\n",
    "            if line == '[ID]':\n",
    "                curr_id = lines[i+1].strip()\n",
    "                protein_dict[curr_id] = {}\n",
    "                protein_dict[curr_id]['primary'] = lines[i+3].strip()\n",
    "            if line == '[TERTIARY]':\n",
    "                coords = []\n",
    "                for j in range(3):\n",
    "                    coords.append(np.fromstring(lines[i+j+1], sep='\\t'))\n",
    "                protein_dict[curr_id]['tertiary'] = np.array(coords)\n",
    "            if line == '[MASK]':\n",
    "                protein_dict[curr_id]['mask'] = lines[i+1].strip()\n",
    "            if len(protein_dict.keys()) >= stop_at:\n",
    "                break\n",
    "    filter_seqs(protein_dict, verbose)\n",
    "    return(protein_dict)"
   ]
  },
  {
   "cell_type": "code",
   "execution_count": 16,
   "metadata": {},
   "outputs": [],
   "source": [
    "def filter_coords(coords, mask):\n",
    "    \"\"\"\n",
    "    Filter atomic coordinates (for residues missing some) using the mask.\n",
    "    coords = 3*(N*3) array, since each residue has N, CA and C\n",
    "    \"\"\"\n",
    "    mask = np.array([x=='+' for x in mask])\n",
    "    mask_stretched = np.repeat(mask, 3)\n",
    "    coords_filt = coords[:, mask_stretched]\n",
    "    return(coords_filt)\n",
    "\n",
    "def filter_seqs(protein_dict, verbose):\n",
    "    re_chainbreak = re.compile(\"\\-*\\+*\\+\\-+\\+\\+*\\-*\") # match for a mask with internal chainbreaks\n",
    "    keys_to_remove = {}\n",
    "    for key in protein_dict.keys():\n",
    "        if len(protein_dict[key].keys()) < 3:\n",
    "            keys_to_remove[key] = ' missing structure, removing...'\n",
    "            continue\n",
    "        mask = protein_dict[key]['mask']\n",
    "        if re_chainbreak.search(mask):\n",
    "            keys_to_remove[key] = \" has a chainbreak, removing...\"\n",
    "        else:\n",
    "            coords = protein_dict[key]['tertiary']\n",
    "            coords_filt = filter_coords(coords, mask)\n",
    "            protein_dict[key]['tertiary'] = coords_filt\n",
    "    for key in keys_to_remove.keys():\n",
    "        if verbose:\n",
    "            print(key, keys_to_remove[key])\n",
    "        del protein_dict[key]\n",
    "\n",
    "def new_dihedral(p0, p1, p2, p3):\n",
    "    \"\"\"Praxeolitic formula\n",
    "    1 sqrt, 1 cross product\n",
    "    \n",
    "    copied from \n",
    "    https://stackoverflow.com/questions/20305272/\n",
    "    dihedral-torsion-angle-from-four-points-in-cartesian-coordinates-in-python\"\"\"\n",
    "\n",
    "    b0 = -1.0*(p1 - p0)\n",
    "    b1 = p2 - p1\n",
    "    b2 = p3 - p2\n",
    "\n",
    "    # normalize b1 so that it does not influence magnitude of vector\n",
    "    # rejections that come next\n",
    "    b1 /= np.linalg.norm(b1)\n",
    "\n",
    "    # vector rejections\n",
    "    # v = projection of b0 onto plane perpendicular to b1\n",
    "    #   = b0 minus component that aligns with b1\n",
    "    # w = projection of b2 onto plane perpendicular to b1\n",
    "    #   = b2 minus component that aligns with b1\n",
    "    v = b0 - np.dot(b0, b1)*b1\n",
    "    w = b2 - np.dot(b2, b1)*b1\n",
    "\n",
    "    # angle between v and w in a plane is the torsion angle\n",
    "    # v and w may not be normalized but that's fine since tan is y/x\n",
    "    x = np.dot(v, w)\n",
    "    y = np.dot(np.cross(b1, v), w)\n",
    "    #return np.degrees(np.arctan2(y, x))\n",
    "    return np.arctan2(y, x)\n",
    "\n",
    "def calc_angles(coords):\n",
    "    N = coords.shape[1]\n",
    "    angles_all = []\n",
    "    for i in range(0, N-3, 3):\n",
    "        psi = new_dihedral(*[coords[:, x] for x in range(i, i+4)])\n",
    "        omega = new_dihedral(*[coords[:, x] for x in range(i+1, i+5)])\n",
    "        phi = new_dihedral(*[coords[:, x] for x in range(i+2, i+6)])\n",
    "        angles = [psi, omega, phi]\n",
    "        angles_all.append(angles)\n",
    "    return(np.array(angles_all))"
   ]
  },
  {
   "cell_type": "code",
   "execution_count": 17,
   "metadata": {},
   "outputs": [],
   "source": [
    "train_proteins = read_proteinnet_file('/Users/Deathvoodoo/big_folders_docs/data/casp7/training_70', 2500, verbose=False)\n",
    "val_proteins = read_proteinnet_file('/Users/Deathvoodoo/big_folders_docs/data/casp7/validation', 300, verbose=False)"
   ]
  },
  {
   "cell_type": "markdown",
   "metadata": {},
   "source": [
    "We get onehot encoded sequences and also angles from the tertiary structures. It's possible to pad everything and put it into a single tensor, simplifying things, but it messes with the outputs so I don't do that. I also onehot encode the sequences as h \\* w but it's probably more intuitive to encode the amino-acid onehot dimensions as channels."
   ]
  },
  {
   "cell_type": "code",
   "execution_count": 18,
   "metadata": {},
   "outputs": [],
   "source": [
    "def get_onehot_angles(protein_dict, pad, max_length=1500):\n",
    "    \"\"\"\n",
    "    Get onehot sequence and calculate angles from 3d coords for the protein dictionary.\n",
    "    Sometimes the angle calculation will produce nans, we remove those sequences.\n",
    "    If pad==True we will numbers as tensors, otherwise lists, along with remaining ids.\n",
    "    \"\"\"\n",
    "    remaining_ids = list(protein_dict.keys())\n",
    "    sequence_list = []\n",
    "    angle_list = []\n",
    "    for key in protein_dict.keys():\n",
    "        sequence = aa_to_onehot(protein_dict[key]['primary'], aa_id_dict, protein_dict[key]['mask'])\n",
    "        coords = protein_dict[key]['tertiary']\n",
    "        angles = calc_angles(coords).T\n",
    "        if pad:\n",
    "            if max_length-sequence.shape[0] < 0:\n",
    "                print(key, ' exceeds max length: ', max_length, ' , skipping...')\n",
    "                continue\n",
    "            else:\n",
    "                sequence_padded = np.pad(\n",
    "                    sequence, pad_width = ((0,0), (0, max_length-sequence.shape[1])), \n",
    "                    constant_values = 0)\n",
    "                sequence_list.append(sequence_padded)\n",
    "                angles_padded = np.pad(\n",
    "                    angles, pad_width = ((0,0), (0, max_length-sequence.shape[1])),\n",
    "                    constant_values = 0)\n",
    "                angle_list.append(angles_padded)\n",
    "        else: \n",
    "            angle_list.append(angles)\n",
    "            sequence_list.append(sequence)\n",
    "    N = len(sequence_list)\n",
    "    have_nans = []\n",
    "    for i,j in enumerate(angle_list):\n",
    "        if np.isnan(j).any():\n",
    "            have_nans.append(i)\n",
    "    inds_to_keep = np.arange(N)[np.logical_not(np.isin(np.arange(N), have_nans))].tolist()\n",
    "    \n",
    "    sequence_list = [sequence_list[i] for i in inds_to_keep]\n",
    "    angle_list = [angle_list[i] for i in inds_to_keep]\n",
    "    remaining_ids = [remaining_ids[i] for i in inds_to_keep]\n",
    "    if pad:\n",
    "        sequence_tensor = torch.tensor(sequence_list).float()\n",
    "        sequence_tensor = sequence_tensor.unsqueeze(1)\n",
    "        angle_tensor = torch.tensor(angle_list).float()\n",
    "        angle_tensor = angle_tensor.unsqueeze(1)\n",
    "        return([sequence_tensor, angle_tensor, remaining_ids])\n",
    "    else:\n",
    "        for i in range(len(sequence_list)):\n",
    "            ith_seq = (torch.tensor(sequence_list[i]).float()).unsqueeze(0)\n",
    "            sequence_list[i] = ith_seq.unsqueeze(0)\n",
    "            ith_angles = (torch.tensor(angle_list[i]).float()).unsqueeze(0)\n",
    "            angle_list[i] = ith_angles.unsqueeze(0)\n",
    "        return([sequence_list, angle_list, remaining_ids])"
   ]
  },
  {
   "cell_type": "code",
   "execution_count": 19,
   "metadata": {},
   "outputs": [
    {
     "name": "stderr",
     "output_type": "stream",
     "text": [
      "/usr/local/lib/python3.7/site-packages/ipykernel_launcher.py:43: RuntimeWarning: invalid value encountered in true_divide\n"
     ]
    }
   ],
   "source": [
    "train_seqs, train_angles, train_ids_remain = get_onehot_angles(train_proteins, pad=False)"
   ]
  },
  {
   "cell_type": "code",
   "execution_count": 20,
   "metadata": {},
   "outputs": [
    {
     "name": "stderr",
     "output_type": "stream",
     "text": [
      "/usr/local/lib/python3.7/site-packages/ipykernel_launcher.py:43: RuntimeWarning: invalid value encountered in true_divide\n"
     ]
    }
   ],
   "source": [
    "val_seqs, val_angles, val_ids_remain = get_onehot_angles(val_proteins, pad=False)"
   ]
  },
  {
   "cell_type": "markdown",
   "metadata": {},
   "source": [
    "We have to write a custom collate function because of the variable sizes (we pad minibatches to the longest sequence in the batch)."
   ]
  },
  {
   "cell_type": "code",
   "execution_count": 21,
   "metadata": {},
   "outputs": [],
   "source": [
    "from torch.utils.data import Dataset\n",
    "class proteindataset(torch.utils.data.Dataset):\n",
    "    def __init__(self, seqs, angles):\n",
    "        self.sequences = seqs\n",
    "        self.angles = angles\n",
    "\n",
    "    def __len__(self):\n",
    "        return len(self.sequences)\n",
    "\n",
    "    def __getitem__(self, idx):\n",
    "        return [self.sequences[idx], self.angles[idx]]\n",
    "\n",
    "def protein_collate(batch):\n",
    "    seqs = [item[0] for item in batch]\n",
    "    angles = [item[1] for item in batch]\n",
    "    max_len = max([x.shape[3] for x in seqs])\n",
    "    for i in range(len(batch)):\n",
    "        curr_len = seqs[i].shape[3]\n",
    "        seq_padded = np.pad(seqs[i], ((0,0), (0,0 ), (0,0), (0,max_len-curr_len)), constant_values = 0)\n",
    "        angles_padded = np.pad(angles[i], ((0,0), (0,0 ), (0,0), (0,max_len-curr_len)), constant_values = 0)\n",
    "        seqs[i] = torch.tensor(seq_padded)\n",
    "        angles[i] = torch.tensor(angles_padded)\n",
    "    seq_tensor = torch.cat(seqs, 0)\n",
    "    angle_tensor = torch.cat(angles, 0)\n",
    "    return([seq_tensor, angle_tensor])\n",
    "    "
   ]
  },
  {
   "cell_type": "code",
   "execution_count": 22,
   "metadata": {},
   "outputs": [],
   "source": [
    "train_dataset = proteindataset(train_seqs, train_angles)\n",
    "val_dataset = proteindataset(val_seqs, val_angles)"
   ]
  },
  {
   "cell_type": "code",
   "execution_count": 23,
   "metadata": {},
   "outputs": [],
   "source": [
    "trainloader = torch.utils.data.DataLoader(train_dataset, batch_size=5,\n",
    "                                          shuffle=True, num_workers=2, collate_fn=protein_collate)\n",
    "valloader = torch.utils.data.DataLoader(val_dataset, batch_size=100,\n",
    "                                         shuffle=False, num_workers=2, collate_fn=protein_collate)\n",
    "#testloader = torch.utils.data.DataLoader(test_dataset, batch_size=100,\n",
    "                                         #shuffle=False, num_workers=2)"
   ]
  },
  {
   "cell_type": "markdown",
   "metadata": {},
   "source": [
    "Running a FCN with some skip connections and using squared loss for training. The loss function is probably not ideal because of the nature of angles, but it's simple.."
   ]
  },
  {
   "cell_type": "code",
   "execution_count": 24,
   "metadata": {},
   "outputs": [],
   "source": [
    "import torch.nn as nn\n",
    "import torch.nn.functional as F\n",
    "import torch.optim as optim\n",
    "\n",
    "\n",
    "class Net(nn.Module):\n",
    "    def __init__(self):\n",
    "        super(Net, self).__init__()\n",
    "        self.conv0 = nn.Conv2d(1, 3, (20, 1))\n",
    "        self.conv0_bn = torch.nn.BatchNorm2d(3)\n",
    "        self.conv1 = nn.Conv2d(3, 6, (1, 4))\n",
    "        self.conv1_bn = torch.nn.BatchNorm2d(6)\n",
    "        self.conv2 = nn.Conv2d(6, 12, (1, 4))\n",
    "        self.conv2_bn = torch.nn.BatchNorm2d(12)\n",
    "        self.conv3 = nn.Conv2d(12, 24, (1, 6))\n",
    "        self.conv3_bn = torch.nn.BatchNorm2d(24)\n",
    "        self.conv4 = nn.Conv2d(24, 24, (1, 1))\n",
    "        self.conv4_bn = torch.nn.BatchNorm2d(24)\n",
    "        \n",
    "        self.deconv1 = nn.ConvTranspose2d(in_channels=24, out_channels=12, kernel_size=(1, 6))\n",
    "        self.deconv1_bn = torch.nn.BatchNorm2d(12)\n",
    "        self.conv5 = nn.Conv2d(24, 24, (1,1))\n",
    "        self.conv5_bn = torch.nn.BatchNorm2d(24)\n",
    "        self.deconv2 = nn.ConvTranspose2d(in_channels=24, out_channels=6, kernel_size=(1, 4))\n",
    "        self.deconv2_bn = torch.nn.BatchNorm2d(6)\n",
    "        self.conv6 = nn.Conv2d(12, 12, (1,1))\n",
    "        self.conv6_bn = torch.nn.BatchNorm2d(12)\n",
    "        self.deconv3 = nn.ConvTranspose2d(in_channels=12, out_channels=6, kernel_size=(3, 3))\n",
    "        self.deconv3_bn = torch.nn.BatchNorm2d(6)\n",
    "        self.conv7 = nn.Conv2d(6, 1, (1,1))\n",
    "        self.conv7_bn = torch.nn.BatchNorm2d(1)\n",
    "        self.conv8 = nn.Conv2d(1, 1, (1,1))\n",
    "        self.conv8_bn = torch.nn.BatchNorm2d(1)\n",
    "        self.conv9 = nn.Conv2d(1, 1, (1,1))\n",
    "\n",
    "    def forward(self, x):\n",
    "        conv0_out = F.relu(self.conv0_bn(self.conv0(x)))\n",
    "        conv1_out = F.relu(self.conv1_bn(self.conv1(conv0_out)))\n",
    "        conv2_out = F.relu(self.conv2_bn(self.conv2(conv1_out)))\n",
    "        conv3_out = F.relu(self.conv3_bn(self.conv3(conv2_out)))\n",
    "        conv4_out = F.relu(self.conv4_bn(self.conv4(conv3_out)))\n",
    "\n",
    "        deconv1_out = F.relu(self.deconv1_bn(self.deconv1(conv4_out)))\n",
    "        deconv2_input = torch.cat((conv2_out, deconv1_out), 1)\n",
    "        conv5_out = F.relu(self.conv5_bn(self.conv5(deconv2_input)))\n",
    "        \n",
    "        deconv2_out = F.relu(self.deconv2_bn(self.deconv2(conv5_out)))\n",
    "        deconv3_input = torch.cat((conv1_out, deconv2_out), 1)\n",
    "        conv6_out = F.relu(self.conv6_bn(self.conv6(deconv3_input)))\n",
    "        \n",
    "        deconv3_out = F.relu(self.deconv3_bn(self.deconv3(conv6_out)))\n",
    "        conv7_out = F.relu(self.conv7_bn(self.conv7(deconv3_out)))\n",
    "        conv8_out = F.relu(self.conv8_bn(self.conv8(conv7_out)))\n",
    "        conv9_out = self.conv9(conv8_out)\n",
    "        return conv9_out\n",
    "\n"
   ]
  },
  {
   "cell_type": "code",
   "execution_count": 41,
   "metadata": {},
   "outputs": [
    {
     "name": "stdout",
     "output_type": "stream",
     "text": [
      "epoch: 0, iteration: 78] training loss: 2.658149086976353, validation_loss: 4.415371796359184\n",
      "epoch: 0, iteration: 157] training loss: 2.4640471271321744, validation_loss: 4.336836843386941\n",
      "new best validation loss, saving..\n",
      "epoch: 0, iteration: 236] training loss: 2.390696134748338, validation_loss: 4.3191156970418\n",
      "new best validation loss, saving..\n",
      "epoch: 0, iteration: 315] training loss: 2.4046807756906823, validation_loss: 4.305380357348402\n",
      "new best validation loss, saving..\n",
      "epoch: 0, iteration: 394] training loss: 2.3869045746477346, validation_loss: 4.293194179949553\n",
      "new best validation loss, saving..\n",
      "epoch: 1, iteration: 78] training loss: 2.2987343676482577, validation_loss: 4.287635146275811\n",
      "new best validation loss, saving..\n",
      "epoch: 1, iteration: 157] training loss: 2.4149774282793457, validation_loss: 4.286975528882896\n",
      "new best validation loss, saving..\n",
      "epoch: 1, iteration: 236] training loss: 2.321779156032997, validation_loss: 4.286045640707019\n",
      "new best validation loss, saving..\n",
      "epoch: 1, iteration: 315] training loss: 2.359748108477532, validation_loss: 4.286910651818565\n",
      "epoch: 1, iteration: 394] training loss: 2.4011704755734793, validation_loss: 4.288005634494449\n",
      "epoch: 2, iteration: 78] training loss: 2.3268465693992906, validation_loss: 4.288824818704439\n",
      "epoch: 2, iteration: 157] training loss: 2.3662253708779057, validation_loss: 4.2899343513924135\n",
      "epoch: 2, iteration: 236] training loss: 2.3974048276490803, validation_loss: 4.291799575090409\n",
      "epoch: 2, iteration: 315] training loss: 2.401805406884302, validation_loss: 4.290090308241221\n",
      "epoch: 2, iteration: 394] training loss: 2.33661754070958, validation_loss: 4.291065002265182\n",
      "epoch: 3, iteration: 78] training loss: 2.407929950122592, validation_loss: 4.293212510969329\n",
      "epoch: 3, iteration: 157] training loss: 2.3897076618822317, validation_loss: 4.290579955215041\n",
      "epoch: 3, iteration: 236] training loss: 2.3775169547600083, validation_loss: 4.286854256754336\n",
      "epoch: 3, iteration: 315] training loss: 2.280890028687972, validation_loss: 4.285042736841284\n",
      "new best validation loss, saving..\n",
      "epoch: 3, iteration: 394] training loss: 2.4072507921653457, validation_loss: 4.282905359630999\n",
      "new best validation loss, saving..\n",
      "epoch: 4, iteration: 78] training loss: 2.338957053196581, validation_loss: 4.281737152649012\n",
      "new best validation loss, saving..\n",
      "epoch: 4, iteration: 157] training loss: 2.361620804931544, validation_loss: 4.2810655223286656\n",
      "new best validation loss, saving..\n",
      "epoch: 4, iteration: 236] training loss: 2.2423903761030752, validation_loss: 4.282080424868544\n",
      "epoch: 4, iteration: 315] training loss: 2.3853494924835013, validation_loss: 4.278867395027827\n",
      "new best validation loss, saving..\n",
      "epoch: 4, iteration: 394] training loss: 2.3644138785857187, validation_loss: 4.279832646898601\n",
      "epoch: 5, iteration: 78] training loss: 2.3388806551317627, validation_loss: 4.282465306313144\n",
      "epoch: 5, iteration: 157] training loss: 2.3754047442086135, validation_loss: 4.277645131816034\n",
      "new best validation loss, saving..\n",
      "epoch: 5, iteration: 236] training loss: 2.307588464097132, validation_loss: 4.277583999478297\n",
      "new best validation loss, saving..\n",
      "epoch: 5, iteration: 315] training loss: 2.2729120843018156, validation_loss: 4.276961838421616\n",
      "new best validation loss, saving..\n",
      "epoch: 5, iteration: 394] training loss: 2.338468719132339, validation_loss: 4.279120725134144\n",
      "epoch: 6, iteration: 78] training loss: 2.31646564942372, validation_loss: 4.279072880744933\n",
      "epoch: 6, iteration: 157] training loss: 2.432191654096676, validation_loss: 4.275041512821032\n",
      "new best validation loss, saving..\n",
      "epoch: 6, iteration: 236] training loss: 2.342992459671407, validation_loss: 4.276908441730168\n",
      "epoch: 6, iteration: 315] training loss: 2.415511784674246, validation_loss: 4.2784119598243535\n",
      "epoch: 6, iteration: 394] training loss: 2.357744526259507, validation_loss: 4.2750495659268415\n",
      "epoch: 7, iteration: 78] training loss: 2.200971292544015, validation_loss: 4.327851580536883\n",
      "epoch: 7, iteration: 157] training loss: 2.377430381654184, validation_loss: 4.275685224844063\n",
      "epoch: 7, iteration: 236] training loss: 2.412673719321625, validation_loss: 4.297386201827423\n",
      "epoch: 7, iteration: 315] training loss: 2.3478963737246357, validation_loss: 4.2958388522915225\n",
      "epoch: 7, iteration: 394] training loss: 2.363441980337795, validation_loss: 4.275727732026059\n",
      "epoch: 8, iteration: 78] training loss: 2.30090672004072, validation_loss: 4.273640427900401\n",
      "new best validation loss, saving..\n",
      "epoch: 8, iteration: 157] training loss: 2.2249439456794837, validation_loss: 4.270899503127391\n",
      "new best validation loss, saving..\n",
      "epoch: 8, iteration: 236] training loss: 2.356484968451005, validation_loss: 4.27137376691984\n",
      "epoch: 8, iteration: 315] training loss: 2.433403408980068, validation_loss: 4.270793647869774\n",
      "new best validation loss, saving..\n",
      "epoch: 8, iteration: 394] training loss: 2.270171846015544, validation_loss: 4.272987693548202\n",
      "epoch: 9, iteration: 78] training loss: 2.349582340143904, validation_loss: 4.282599086346835\n",
      "epoch: 9, iteration: 157] training loss: 2.3306859822212895, validation_loss: 4.268536952526674\n",
      "new best validation loss, saving..\n",
      "epoch: 9, iteration: 236] training loss: 2.2470275767241854, validation_loss: 4.248507696649305\n",
      "new best validation loss, saving..\n",
      "epoch: 9, iteration: 315] training loss: 2.2813708736926697, validation_loss: 4.256881551898045\n",
      "epoch: 9, iteration: 394] training loss: 2.2098330938363375, validation_loss: 4.240565464548443\n",
      "new best validation loss, saving..\n",
      "epoch: 10, iteration: 78] training loss: 2.302776926680456, validation_loss: 4.232998914044835\n",
      "new best validation loss, saving..\n",
      "epoch: 10, iteration: 157] training loss: 2.2529613141772113, validation_loss: 4.2294200866118725\n",
      "new best validation loss, saving..\n",
      "epoch: 10, iteration: 236] training loss: 2.3005136824861356, validation_loss: 4.215636017529861\n",
      "new best validation loss, saving..\n",
      "epoch: 10, iteration: 315] training loss: 2.3263474929181833, validation_loss: 4.218169290086496\n",
      "epoch: 10, iteration: 394] training loss: 2.257403907896597, validation_loss: 4.232558833516164\n",
      "epoch: 11, iteration: 78] training loss: 2.275569372539279, validation_loss: 4.207662530567332\n",
      "new best validation loss, saving..\n",
      "epoch: 11, iteration: 157] training loss: 2.2409559729733046, validation_loss: 4.205392625020901\n",
      "new best validation loss, saving..\n",
      "epoch: 11, iteration: 236] training loss: 2.2712762868857084, validation_loss: 4.190932384003763\n",
      "new best validation loss, saving..\n",
      "epoch: 11, iteration: 315] training loss: 2.244750167750105, validation_loss: 4.17991765556128\n",
      "new best validation loss, saving..\n",
      "epoch: 11, iteration: 394] training loss: 2.321281918996497, validation_loss: 4.185442551322604\n",
      "epoch: 12, iteration: 78] training loss: 2.1940694805942003, validation_loss: 4.185611285593199\n",
      "epoch: 12, iteration: 157] training loss: 2.285338741314562, validation_loss: 4.196282188529551\n",
      "epoch: 12, iteration: 236] training loss: 2.3214914466761334, validation_loss: 4.17706219009731\n",
      "new best validation loss, saving..\n",
      "epoch: 12, iteration: 315] training loss: 2.176513090918336, validation_loss: 4.167971490517903\n",
      "new best validation loss, saving..\n",
      "epoch: 12, iteration: 394] training loss: 2.281135869931571, validation_loss: 4.1574433951274194\n",
      "new best validation loss, saving..\n",
      "epoch: 13, iteration: 78] training loss: 2.2514455559887465, validation_loss: 4.159966196702874\n",
      "epoch: 13, iteration: 157] training loss: 2.2624132271054425, validation_loss: 4.151243560987969\n",
      "new best validation loss, saving..\n",
      "epoch: 13, iteration: 236] training loss: 2.2518755378602426, validation_loss: 4.669601125561675\n",
      "epoch: 13, iteration: 315] training loss: 2.2612207735641094, validation_loss: 4.1388118267059335\n",
      "new best validation loss, saving..\n",
      "epoch: 13, iteration: 394] training loss: 2.336235671103755, validation_loss: 4.13332818383756\n",
      "new best validation loss, saving..\n",
      "epoch: 14, iteration: 78] training loss: 2.1848453358758855, validation_loss: 4.141018634257107\n",
      "epoch: 14, iteration: 157] training loss: 2.308840243122246, validation_loss: 4.168634708808815\n",
      "epoch: 14, iteration: 236] training loss: 2.284551406208473, validation_loss: 4.139875781276949\n"
     ]
    },
    {
     "name": "stdout",
     "output_type": "stream",
     "text": [
      "epoch: 14, iteration: 315] training loss: 2.2391636748857136, validation_loss: 4.167564963516981\n",
      "epoch: 14, iteration: 394] training loss: 2.185166991209682, validation_loss: 4.150001891281293\n",
      "epoch: 15, iteration: 78] training loss: 2.153358636023123, validation_loss: 4.2336092034111825\n",
      "epoch: 15, iteration: 157] training loss: 2.2191012026388433, validation_loss: 4.1377742290496835\n",
      "epoch: 15, iteration: 236] training loss: 2.1813728009598163, validation_loss: 4.124800933443981\n",
      "new best validation loss, saving..\n",
      "epoch: 15, iteration: 315] training loss: 2.2285409833811505, validation_loss: 4.223631968964703\n",
      "epoch: 15, iteration: 394] training loss: 2.2333790003498897, validation_loss: 4.118025011342507\n",
      "new best validation loss, saving..\n",
      "epoch: 16, iteration: 78] training loss: 2.1374709047848666, validation_loss: 4.110665320054345\n",
      "new best validation loss, saving..\n",
      "epoch: 16, iteration: 157] training loss: 2.19319275511971, validation_loss: 4.1127849350804855\n",
      "epoch: 16, iteration: 236] training loss: 2.2525828231739093, validation_loss: 4.1092364386371925\n",
      "new best validation loss, saving..\n",
      "epoch: 16, iteration: 315] training loss: 2.178945337669759, validation_loss: 4.28064470446628\n",
      "epoch: 16, iteration: 394] training loss: 2.1841565943971464, validation_loss: 4.215334810640499\n",
      "epoch: 17, iteration: 78] training loss: 2.2793728248982488, validation_loss: 4.2821485957373735\n",
      "epoch: 17, iteration: 157] training loss: 2.2405002117156982, validation_loss: 4.19334239285925\n",
      "epoch: 17, iteration: 236] training loss: 2.2185893058776855, validation_loss: 4.1118591064992165\n",
      "epoch: 17, iteration: 315] training loss: 2.14682006383244, validation_loss: 4.101882280214972\n",
      "new best validation loss, saving..\n",
      "epoch: 17, iteration: 394] training loss: 2.2726283948632737, validation_loss: 4.09805629434793\n",
      "new best validation loss, saving..\n",
      "epoch: 18, iteration: 78] training loss: 2.134148152568672, validation_loss: 4.09631374867066\n",
      "new best validation loss, saving..\n",
      "epoch: 18, iteration: 157] training loss: 2.2924056747291663, validation_loss: 4.290801650804023\n",
      "epoch: 18, iteration: 236] training loss: 2.197926038428198, validation_loss: 4.097170722225435\n",
      "epoch: 18, iteration: 315] training loss: 2.1860122695753845, validation_loss: 4.256027210017908\n",
      "epoch: 18, iteration: 394] training loss: 2.204277005376695, validation_loss: 4.132161847923112\n",
      "epoch: 19, iteration: 78] training loss: 2.1503238149836092, validation_loss: 4.131795902615008\n",
      "epoch: 19, iteration: 157] training loss: 2.2498154745826238, validation_loss: 4.183215966691141\n",
      "epoch: 19, iteration: 236] training loss: 2.2608137734328646, validation_loss: 4.361355211423791\n",
      "epoch: 19, iteration: 315] training loss: 2.1744743495047847, validation_loss: 4.105760114348453\n",
      "epoch: 19, iteration: 394] training loss: 2.2584836558450627, validation_loss: 4.2076418101787585\n",
      "epoch: 20, iteration: 78] training loss: 2.256825895249089, validation_loss: 4.292673754951226\n",
      "epoch: 20, iteration: 157] training loss: 2.1443263790275475, validation_loss: 4.080315609341083\n",
      "new best validation loss, saving..\n",
      "epoch: 20, iteration: 236] training loss: 2.1150651264794265, validation_loss: 4.164233532936681\n",
      "epoch: 20, iteration: 315] training loss: 2.168532929842985, validation_loss: 4.748663950225583\n",
      "epoch: 20, iteration: 394] training loss: 2.140530488159083, validation_loss: 4.077386262624158\n",
      "new best validation loss, saving..\n",
      "epoch: 21, iteration: 78] training loss: 2.1395398604718943, validation_loss: 4.135898367218348\n",
      "epoch: 21, iteration: 157] training loss: 2.1915462907356553, validation_loss: 4.09453307804854\n",
      "epoch: 21, iteration: 236] training loss: 2.2387726789788354, validation_loss: 4.173747027697769\n",
      "epoch: 21, iteration: 315] training loss: 2.1465249589726896, validation_loss: 4.129040786753528\n",
      "epoch: 21, iteration: 394] training loss: 2.2031127229521545, validation_loss: 4.789990672598715\n",
      "epoch: 22, iteration: 78] training loss: 2.142334515535379, validation_loss: 4.140618202478988\n",
      "epoch: 22, iteration: 157] training loss: 2.0876879827885686, validation_loss: 4.123055204101231\n",
      "epoch: 22, iteration: 236] training loss: 2.301623964611488, validation_loss: 4.181579596322518\n",
      "epoch: 22, iteration: 315] training loss: 2.1624418647983408, validation_loss: 4.072470474502313\n",
      "new best validation loss, saving..\n",
      "epoch: 22, iteration: 394] training loss: 2.2540927536879916, validation_loss: 4.564851337152978\n",
      "epoch: 23, iteration: 78] training loss: 2.1843898915037325, validation_loss: 4.090707097364509\n",
      "epoch: 23, iteration: 157] training loss: 2.1985559614398813, validation_loss: 4.85980526390283\n",
      "epoch: 23, iteration: 236] training loss: 2.1581433136251906, validation_loss: 4.489887836186783\n",
      "epoch: 23, iteration: 315] training loss: 2.0823159579989277, validation_loss: 4.340640158756919\n",
      "epoch: 23, iteration: 394] training loss: 2.262163765822785, validation_loss: 4.186867325202275\n",
      "epoch: 24, iteration: 78] training loss: 2.141996169392067, validation_loss: 4.275351859953092\n",
      "epoch: 24, iteration: 157] training loss: 2.2849186523051204, validation_loss: 4.075833544782969\n",
      "epoch: 24, iteration: 236] training loss: 2.1232130436957637, validation_loss: 4.369958999364271\n",
      "epoch: 24, iteration: 315] training loss: 2.1783602841292757, validation_loss: 4.063615103130756\n",
      "new best validation loss, saving..\n",
      "epoch: 24, iteration: 394] training loss: 2.1606685390955285, validation_loss: 4.064337205627689\n",
      "epoch: 25, iteration: 78] training loss: 2.193736443036719, validation_loss: 4.165205267460452\n",
      "epoch: 25, iteration: 157] training loss: 2.2359829673284217, validation_loss: 4.071208815211836\n",
      "epoch: 25, iteration: 236] training loss: 2.1716105455084693, validation_loss: 4.064212253560191\n",
      "epoch: 25, iteration: 315] training loss: 2.253955134862586, validation_loss: 4.29373166742532\n",
      "epoch: 25, iteration: 394] training loss: 2.1412319473073453, validation_loss: 4.098082616277364\n",
      "epoch: 26, iteration: 78] training loss: 2.3154731113699416, validation_loss: 4.140044540166852\n",
      "epoch: 26, iteration: 157] training loss: 2.098849109456509, validation_loss: 4.221919952527339\n",
      "epoch: 26, iteration: 236] training loss: 2.201072551027129, validation_loss: 4.102131576641746\n",
      "epoch: 26, iteration: 315] training loss: 2.2208489903920814, validation_loss: 4.10855541281078\n",
      "epoch: 26, iteration: 394] training loss: 2.2016122175168387, validation_loss: 4.262924172308133\n",
      "epoch: 27, iteration: 78] training loss: 2.268563691573807, validation_loss: 4.116734936185508\n",
      "epoch: 27, iteration: 157] training loss: 2.1251892289028893, validation_loss: 4.146525929803429\n",
      "epoch: 27, iteration: 236] training loss: 2.1994253910040555, validation_loss: 4.065380082182262\n",
      "epoch: 27, iteration: 315] training loss: 2.085244017311289, validation_loss: 4.211752973172977\n",
      "epoch: 27, iteration: 394] training loss: 2.2691808803172053, validation_loss: 4.216808163601416\n",
      "epoch: 28, iteration: 78] training loss: 2.109922922110256, validation_loss: 4.150073685075926\n",
      "epoch: 28, iteration: 157] training loss: 2.220669431022451, validation_loss: 4.094413321951163\n",
      "epoch: 28, iteration: 236] training loss: 2.236061242562306, validation_loss: 4.052565618701602\n",
      "new best validation loss, saving..\n",
      "epoch: 28, iteration: 315] training loss: 2.1083841655827777, validation_loss: 4.102473864088891\n",
      "epoch: 28, iteration: 394] training loss: 2.124951466729369, validation_loss: 4.055431053690289\n",
      "epoch: 29, iteration: 78] training loss: 2.1501682031003733, validation_loss: 4.051642275374868\n",
      "new best validation loss, saving..\n",
      "epoch: 29, iteration: 157] training loss: 2.087396182591402, validation_loss: 4.238881883413896\n",
      "epoch: 29, iteration: 236] training loss: 2.1985967943939984, validation_loss: 4.226092185663142\n",
      "epoch: 29, iteration: 315] training loss: 2.216829758656176, validation_loss: 4.08643876599229\n",
      "epoch: 29, iteration: 394] training loss: 2.158332225642627, validation_loss: 4.576866336490794\n",
      "Finished Training\n"
     ]
    }
   ],
   "source": [
    "net = Net()\n",
    "\n",
    "criterion = nn.MSELoss()\n",
    "optimizer = optim.Adam(net.parameters(), lr=1e-3)\n",
    "\n",
    "prints_per_epoch = 5\n",
    "\n",
    "verbose_k = np.floor(len(trainloader)/prints_per_epoch)\n",
    "\n",
    "\n",
    "train_losses = []\n",
    "val_losses = []\n",
    "iterations = []\n",
    "best_loss = None\n",
    "\n",
    "for epoch in range(30):\n",
    "\n",
    "    running_loss = 0.0\n",
    "    for i, data in enumerate(trainloader):\n",
    "        sequence, true_angles = data\n",
    "\n",
    "        # zero the parameter gradients\n",
    "        optimizer.zero_grad()\n",
    "\n",
    "        # forward + backward + optimize\n",
    "        predicted_angles = net(sequence)\n",
    "\n",
    "        loss = criterion(predicted_angles, true_angles)\n",
    "        loss.backward()\n",
    "        optimizer.step()\n",
    "        \n",
    "        # print statistics, should add validation loss\n",
    "        running_loss += loss.item()\n",
    "        \n",
    "        if (i+1) % verbose_k == 0:   \n",
    "            train_losses.append(running_loss/verbose_k)\n",
    "            true_iter = len(trainloader)*epoch + i\n",
    "            iterations.append(true_iter)\n",
    "            net.eval()\n",
    "            validation_loss = 0\n",
    "            for k,j in enumerate(val_seqs):\n",
    "                pred_k = net(j)\n",
    "                loss_k = criterion(pred_k, val_angles[k]).item()\n",
    "                validation_loss += loss_k/len(val_seqs)\n",
    "            val_losses.append(validation_loss)\n",
    "            net.train()\n",
    "            print('epoch: {}, iteration: {}] training loss: {}, validation_loss: {}'.format(\n",
    "                epoch, i, running_loss/verbose_k, validation_loss))\n",
    "            \n",
    "            if best_loss == None:\n",
    "                best_loss = validation_loss\n",
    "            else:\n",
    "                if validation_loss <= min(val_losses):\n",
    "                    print('new best validation loss, saving..')\n",
    "                    best_loss = validation_loss\n",
    "                    torch.save(net.state_dict(), 'best_fcn_parameters.pt')\n",
    "\n",
    "            running_loss = 0.0\n",
    "\n",
    "print('Finished Training')"
   ]
  },
  {
   "cell_type": "code",
   "execution_count": 48,
   "metadata": {},
   "outputs": [],
   "source": [
    "net.load_state_dict(torch.load('/Users/Deathvoodoo/big_folders_docs/random/best_fcn_parameters.pt'))\n",
    "\n",
    "net.eval()\n",
    "\n",
    "validation_preds = [net(i) for i in val_seqs]"
   ]
  },
  {
   "cell_type": "code",
   "execution_count": 42,
   "metadata": {},
   "outputs": [
    {
     "data": {
      "image/png": "[encoded data removed]",
      "text/plain": [
       "<Figure size 432x288 with 1 Axes>"
      ]
     },
     "metadata": {
      "needs_background": "light"
     },
     "output_type": "display_data"
    }
   ],
   "source": [
    "import matplotlib.pyplot as plt\n",
    "plt.scatter(iterations, train_losses, label='train loss')\n",
    "plt.scatter(iterations, val_losses, label='validation loss')\n",
    "plt.legend()\n",
    "plt.show()"
   ]
  },
  {
   "cell_type": "code",
   "execution_count": 28,
   "metadata": {},
   "outputs": [],
   "source": [
    "import PeptideBuilder\n",
    "test_protein = val_ids_remain[13]"
   ]
  },
  {
   "cell_type": "code",
   "execution_count": 49,
   "metadata": {},
   "outputs": [],
   "source": [
    "test_angles_real = val_angles[13]\n",
    "test_angles_pred = validation_preds[13].detach()"
   ]
  },
  {
   "cell_type": "code",
   "execution_count": 50,
   "metadata": {},
   "outputs": [
    {
     "data": {
      "text/plain": [
       "torch.Size([1, 1, 3, 431])"
      ]
     },
     "execution_count": 50,
     "metadata": {},
     "output_type": "execute_result"
    }
   ],
   "source": [
    "test_angles_real.shape"
   ]
  },
  {
   "cell_type": "code",
   "execution_count": 54,
   "metadata": {},
   "outputs": [],
   "source": [
    "def make_pb_structure(seq_str, angles):\n",
    "    psi = np.degrees(angles[0, :].tolist())\n",
    "    omega = np.degrees(angles[1, :].tolist())\n",
    "    phi = np.degrees(angles[2, :].tolist())\n",
    "    structure = PeptideBuilder.make_structure(seq_str, phi, psi, omega)\n",
    "    return(structure)"
   ]
  },
  {
   "cell_type": "code",
   "execution_count": 55,
   "metadata": {},
   "outputs": [],
   "source": [
    "test_structure_real = make_pb_structure(val_proteins[test_protein]['primary'], test_angles_real[0, 0, :, :])"
   ]
  },
  {
   "cell_type": "code",
   "execution_count": 56,
   "metadata": {},
   "outputs": [],
   "source": [
    "test_structure_pred = make_pb_structure(val_proteins[test_protein]['primary'], test_angles_pred[0, 0, :, :])"
   ]
  },
  {
   "cell_type": "code",
   "execution_count": 57,
   "metadata": {},
   "outputs": [],
   "source": [
    "import Bio.PDB\n",
    "def write_to_pdb(structure, prot_id, identifier):\n",
    "    out = Bio.PDB.PDBIO()\n",
    "    out.set_structure(structure)\n",
    "    out.save(prot_id + identifier + \".pdb\")"
   ]
  },
  {
   "cell_type": "code",
   "execution_count": 58,
   "metadata": {},
   "outputs": [],
   "source": [
    "write_to_pdb(test_structure_real, test_protein, '_real')\n",
    "write_to_pdb(test_structure_pred, test_protein, '_pred')"
   ]
  },
  {
   "cell_type": "markdown",
   "metadata": {},
   "source": [
    "We can take the pdb files and align them in pymol (I have no idea how to automate this so I just did it manually and took a screenshot)."
   ]
  },
  {
   "cell_type": "code",
   "execution_count": 59,
   "metadata": {},
   "outputs": [
    {
     "data": {
      "image/png": "[encoded data removed]",
      "text/plain": [
       "<IPython.core.display.Image object>"
      ]
     },
     "metadata": {},
     "output_type": "display_data"
    }
   ],
   "source": [
    "from IPython.display import Image \n",
    "im = Image(filename=\"/Users/Deathvoodoo/big_folders_docs/random/pymol_prot_fcn.png\")\n",
    "display(im)"
   ]
  },
  {
   "cell_type": "code",
   "execution_count": 51,
   "metadata": {},
   "outputs": [
    {
     "name": "stdout",
     "output_type": "stream",
     "text": [
      "tensor(1.5494)\n",
      "tensor(3.1415)\n"
     ]
    }
   ],
   "source": [
    "print(test_angles_pred.max())\n",
    "print(test_angles_real.max())"
   ]
  },
  {
   "cell_type": "markdown",
   "metadata": {},
   "source": [
    "Should use a different loss function."
   ]
  },
  {
   "cell_type": "code",
   "execution_count": 52,
   "metadata": {},
   "outputs": [
    {
     "data": {
      "image/png": "[encoded data removed]",
      "text/plain": [
       "<Figure size 432x288 with 2 Axes>"
      ]
     },
     "metadata": {
      "needs_background": "light"
     },
     "output_type": "display_data"
    }
   ],
   "source": [
    "fig, axs = plt.subplots(1, 2, sharey=True, tight_layout=True)\n",
    "n_bins=20\n",
    "axs[0].hist(test_angles_real.numpy().flatten(), bins=n_bins)\n",
    "axs[1].hist(test_angles_pred.numpy().flatten(), bins=n_bins)\n",
    "plt.show()"
   ]
  },
  {
   "cell_type": "markdown",
   "metadata": {},
   "source": [
    "Some work still needs to be done it seems..."
   ]
  }
 ],
 "metadata": {
  "kernelspec": {
   "display_name": "Python 3",
   "language": "python",
   "name": "python3"
  },
  "language_info": {
   "codemirror_mode": {
    "name": "ipython",
    "version": 3
   },
   "file_extension": ".py",
   "mimetype": "text/x-python",
   "name": "python",
   "nbconvert_exporter": "python",
   "pygments_lexer": "ipython3",
   "version": "3.7.4"
  }
 },
 "nbformat": 4,
 "nbformat_minor": 2
}
