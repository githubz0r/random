{
 "cells": [
  {
   "cell_type": "markdown",
   "metadata": {},
   "source": [
    "Trying to make a FCN to predict dihedral angles. The data is from https://github.com/aqlaboratory/proteinnet casp7, text based, using only a subset of the data due to lack of computational resources. Data was preprocessed in https://github.com/githubz0r/random/blob/master/protein_fcn_preproc.ipynb "
   ]
  },
  {
   "cell_type": "code",
   "execution_count": 63,
   "metadata": {},
   "outputs": [],
   "source": [
    "import numpy as np\n",
    "import torch\n",
    "import imp\n",
    "import re\n",
    "import matplotlib.pyplot as plt\n",
    "import pickle\n",
    "import PeptideBuilder"
   ]
  },
  {
   "cell_type": "markdown",
   "metadata": {},
   "source": [
    "Helper function to get the angles from sin and cos using atan2."
   ]
  },
  {
   "cell_type": "code",
   "execution_count": 42,
   "metadata": {},
   "outputs": [],
   "source": [
    "def back_to_angle(sin_cos_array, n_angles=3):\n",
    "    angles = []\n",
    "    for i in range(n_angles):\n",
    "        angles_i = np.arctan2(sin_cos_array[:, i, :], sin_cos_array[:, n_angles+i, :])\n",
    "        # remember that we input sin first due to atan2 definition\n",
    "        angles_i = angles_i[:, np.newaxis, :]\n",
    "        angles.append(angles_i)\n",
    "    angles_arr = np.concatenate(angles, 1)\n",
    "    return(angles_arr)\n",
    "aa_id_dict = {'A': 0, 'C': 1, 'D': 2, 'E': 3, 'F': 4, 'G': 5, 'H': 6, 'I': 7,\n",
    "              'K': 8, 'L': 9, 'M': 10, 'N': 11, 'P': 12, 'Q': 13, 'R': 14, \n",
    "              'S': 15, 'T': 16, 'V': 17, 'W': 18, 'Y': 19}\n",
    "pos_aa_dict = {j:i for i,j in aa_id_dict.items()}"
   ]
  },
  {
   "cell_type": "markdown",
   "metadata": {},
   "source": [
    "Load files."
   ]
  },
  {
   "cell_type": "code",
   "execution_count": 4,
   "metadata": {},
   "outputs": [],
   "source": [
    "train_file = open('protein_fcn_data_test/train_data_proc', 'rb')\n",
    "train_data = pickle.load(train_file)\n",
    "train_file.close()"
   ]
  },
  {
   "cell_type": "code",
   "execution_count": 5,
   "metadata": {},
   "outputs": [],
   "source": [
    "val_file = open('protein_fcn_data_test/val_data_proc', 'rb')\n",
    "val_data = pickle.load(val_file)\n",
    "val_file.close()"
   ]
  },
  {
   "cell_type": "code",
   "execution_count": 7,
   "metadata": {},
   "outputs": [],
   "source": [
    "train_seqs = train_data['train_seqs']\n",
    "train_coords = train_data['train_coords']\n",
    "train_angles_sin_cos = train_data['train_angles_sin_cos']\n",
    "train_angles = [back_to_angle(i.numpy()) for i in train_angles_sin_cos]\n",
    "train_ids_remain = train_data['train_ids_after_filt']"
   ]
  },
  {
   "cell_type": "code",
   "execution_count": 8,
   "metadata": {},
   "outputs": [],
   "source": [
    "val_seqs = val_data['val_seqs']\n",
    "val_coords = val_data['val_coords']\n",
    "val_angles_sin_cos = val_data['val_angles_sin_cos']\n",
    "val_angles = [back_to_angle(i.numpy()) for i in val_angles_sin_cos]\n",
    "val_ids_remain = val_data['val_ids_after_filt']"
   ]
  },
  {
   "cell_type": "markdown",
   "metadata": {},
   "source": [
    "Quickly check how many proteins there are."
   ]
  },
  {
   "cell_type": "code",
   "execution_count": 166,
   "metadata": {},
   "outputs": [
    {
     "name": "stdout",
     "output_type": "stream",
     "text": [
      "7964\n",
      "184\n"
     ]
    }
   ],
   "source": [
    "print(len(train_seqs))\n",
    "print(len(val_seqs))"
   ]
  },
  {
   "cell_type": "markdown",
   "metadata": {},
   "source": [
    "We write a dataset class for the torch DataLoader. Since we only pad the minibatches (instead of everything in one tensor), we also need a custom collate function to deal with this. "
   ]
  },
  {
   "cell_type": "code",
   "execution_count": 9,
   "metadata": {},
   "outputs": [],
   "source": [
    "from torch.utils.data import Dataset\n",
    "class proteindataset(torch.utils.data.Dataset):\n",
    "    def __init__(self, seqs, angles):\n",
    "        self.sequences = seqs\n",
    "        self.angles = angles\n",
    "\n",
    "    def __len__(self):\n",
    "        return len(self.sequences)\n",
    "\n",
    "    def __getitem__(self, idx):\n",
    "        return [self.sequences[idx], self.angles[idx]]\n",
    "\n",
    "def protein_collate(batch):\n",
    "    seqs = [item[0] for item in batch]\n",
    "    angles = [item[1] for item in batch]\n",
    "    max_len = max([x.shape[2] for x in seqs])\n",
    "    for i in range(len(batch)):\n",
    "        curr_len = seqs[i].shape[2]\n",
    "        seq_padded = np.pad(seqs[i], ((0,0 ), (0,0), (0,max_len-curr_len)), constant_values = 0)\n",
    "        angles_padded = np.pad(angles[i], ((0,0 ), (0,0), (0,max_len-curr_len)), constant_values = 0)\n",
    "        seqs[i] = torch.tensor(seq_padded)\n",
    "        angles[i] = torch.tensor(angles_padded)\n",
    "    seq_tensor = torch.cat(seqs, 0)\n",
    "    angle_tensor = torch.cat(angles, 0)\n",
    "    return([seq_tensor, angle_tensor])\n",
    "    "
   ]
  },
  {
   "cell_type": "code",
   "execution_count": 10,
   "metadata": {},
   "outputs": [],
   "source": [
    "train_dataset = proteindataset(train_seqs, train_angles_sin_cos)\n",
    "val_dataset = proteindataset(val_seqs, val_angles_sin_cos)"
   ]
  },
  {
   "cell_type": "code",
   "execution_count": 11,
   "metadata": {},
   "outputs": [],
   "source": [
    "trainloader = torch.utils.data.DataLoader(train_dataset, batch_size=10,\n",
    "                                          shuffle=True, num_workers=2, collate_fn=protein_collate)\n",
    "valloader = torch.utils.data.DataLoader(val_dataset, batch_size=100,\n",
    "                                         shuffle=False, num_workers=2, collate_fn=protein_collate)\n",
    "#testloader = torch.utils.data.DataLoader(test_dataset, batch_size=100,\n",
    "                                         #shuffle=False, num_workers=2)"
   ]
  },
  {
   "cell_type": "markdown",
   "metadata": {},
   "source": [
    "Define and run a FCN with mean squared error as loss function. Angles are transformed to sin/cos and will be backtransformed with arctan 2 after training\n",
    "<br>\n",
    "First half of the network does convolution and the second half does up-convolution. It also has some skip connections like the U-NET architecture (but simpler).\n",
    "<br>\n",
    "<br>\n",
    "The proteins are encoded as $N*C*L$ where $C$ = 20 (number of amino acids) and $L$ = length."
   ]
  },
  {
   "cell_type": "code",
   "execution_count": 12,
   "metadata": {},
   "outputs": [],
   "source": [
    "import torch.nn as nn\n",
    "import torch.nn.functional as F\n",
    "import torch.optim as optim\n",
    "\n",
    "kd2 = 11\n",
    "pad2 = int((kd2-1)/2)\n",
    "kd3 = 15\n",
    "pad3 = int((kd3-1)/2)\n",
    "kd4 = 21\n",
    "pad4 = int((kd4-1)/2)\n",
    "\n",
    "class Net(nn.Module):\n",
    "    def __init__(self):\n",
    "        super(Net, self).__init__()\n",
    "        self.conv0 = nn.Conv1d(20, 20, kernel_size=1)\n",
    "        self.conv0_bn = torch.nn.BatchNorm1d(20)\n",
    "        self.conv1 = nn.Conv1d(20, 15, kernel_size=kd2, padding=pad2) # down\n",
    "        self.conv1_bn = torch.nn.BatchNorm1d(15)\n",
    "        self.conv2 = nn.Conv1d(15, 30, kernel_size=kd3, padding=pad3) # down \n",
    "        self.conv2_bn = torch.nn.BatchNorm1d(30)\n",
    "        self.conv3 = nn.Conv1d(30, 24, kernel_size=kd4, padding=pad4) # down\n",
    "        self.conv3_bn = torch.nn.BatchNorm1d(24)\n",
    "        self.conv4 = nn.Conv1d(24, 24, kernel_size=1)\n",
    "        self.conv4_bn = torch.nn.BatchNorm1d(24)\n",
    "        \n",
    "        self.deconv1 = nn.ConvTranspose1d(in_channels=24, out_channels=30, kernel_size=kd4, padding=pad4) # up\n",
    "        self.deconv1_bn = torch.nn.BatchNorm1d(30)\n",
    "        self.conv5 = nn.Conv1d(30, 30, 1)\n",
    "        self.conv5_bn = torch.nn.BatchNorm1d(30)\n",
    "        \n",
    "        self.deconv2 = nn.ConvTranspose1d(in_channels=60, out_channels=15, kernel_size=kd3, padding=pad3) # up\n",
    "        self.deconv2_bn = torch.nn.BatchNorm1d(15)\n",
    "        self.conv6 = nn.Conv1d(15, 15, 1)\n",
    "        self.conv6_bn = torch.nn.BatchNorm1d(15)\n",
    "        \n",
    "        self.deconv3 = nn.ConvTranspose1d(in_channels=30, out_channels=15, kernel_size=kd2-1, padding=pad2) # up\n",
    "        self.deconv3_bn = torch.nn.BatchNorm1d(15)\n",
    "        self.conv7 = nn.Conv1d(15, 6, (1))\n",
    "        self.conv7_bn = torch.nn.BatchNorm1d(6)\n",
    "        self.conv8 = nn.Conv1d(6, 6, 1)\n",
    "        self.conv8_bn = torch.nn.BatchNorm1d(6)\n",
    "        self.conv9 = nn.Conv1d(6, 6, 1)\n",
    "\n",
    "    def forward(self, x):\n",
    "        conv0_out = F.relu(self.conv0_bn(self.conv0(x)))\n",
    "        conv1_out = F.relu(self.conv1_bn(self.conv1(conv0_out)))\n",
    "        conv2_out = F.relu(self.conv2_bn(self.conv2(conv1_out)))\n",
    "        conv3_out = F.relu(self.conv3_bn(self.conv3(conv2_out)))\n",
    "        conv4_out = F.relu(self.conv4_bn(self.conv4(conv3_out)))\n",
    "\n",
    "        deconv1_out = F.relu(self.deconv1_bn(self.deconv1(conv4_out)))\n",
    "        conv5_out = F.relu(self.conv5_bn(self.conv5(deconv1_out)))\n",
    "        \n",
    "        deconv2_input = torch.cat((conv2_out, deconv1_out), 1)  \n",
    "        deconv2_out = F.relu(self.deconv2_bn(self.deconv2(deconv2_input)))\n",
    "        conv6_out = F.relu(self.conv6_bn(self.conv6(deconv2_out)))\n",
    "        \n",
    "        deconv3_input = torch.cat((conv1_out, deconv2_out), 1)\n",
    "        deconv3_out = F.relu(self.deconv3_bn(self.deconv3(deconv3_input)))\n",
    "        conv7_out = F.relu(self.conv7_bn(self.conv7(deconv3_out)))\n",
    "        conv8_out = F.relu(self.conv8_bn(self.conv8(conv7_out)))\n",
    "        conv9_out = self.conv9(conv8_out)\n",
    "        return conv9_out\n",
    "\n"
   ]
  },
  {
   "cell_type": "markdown",
   "metadata": {},
   "source": [
    "Train the network."
   ]
  },
  {
   "cell_type": "code",
   "execution_count": 13,
   "metadata": {},
   "outputs": [
    {
     "name": "stdout",
     "output_type": "stream",
     "text": [
      "epoch: 0, iteration: 158] training loss: 0.15017666944167898, validation_loss: 0.22763533614899806\n",
      "epoch: 0, iteration: 317] training loss: 0.10137662101747855, validation_loss: 0.2112800831420591\n",
      "new best validation loss, saving..\n",
      "epoch: 0, iteration: 476] training loss: 0.08956529919362669, validation_loss: 0.195476911638094\n",
      "new best validation loss, saving..\n",
      "epoch: 0, iteration: 635] training loss: 0.08501489270689352, validation_loss: 0.20598277773546136\n",
      "epoch: 0, iteration: 794] training loss: 0.08446528399421734, validation_loss: 0.1884980772358729\n",
      "new best validation loss, saving..\n",
      "epoch: 1, iteration: 158] training loss: 0.08329521215655519, validation_loss: 0.1894600596683829\n",
      "epoch: 1, iteration: 317] training loss: 0.0795983059460637, validation_loss: 0.18504403102333128\n",
      "new best validation loss, saving..\n",
      "epoch: 1, iteration: 476] training loss: 0.0820375032160642, validation_loss: 0.1816044075657492\n",
      "new best validation loss, saving..\n",
      "epoch: 1, iteration: 635] training loss: 0.08103970845915237, validation_loss: 0.18078658721693197\n",
      "new best validation loss, saving..\n",
      "epoch: 1, iteration: 794] training loss: 0.07918276902545923, validation_loss: 0.19146526833672237\n",
      "epoch: 2, iteration: 158] training loss: 0.07733657201693493, validation_loss: 0.18505277548430726\n",
      "epoch: 2, iteration: 317] training loss: 0.07977553199297227, validation_loss: 0.17849468252540607\n",
      "new best validation loss, saving..\n",
      "epoch: 2, iteration: 476] training loss: 0.07909252639836485, validation_loss: 0.1791912165126237\n",
      "epoch: 2, iteration: 635] training loss: 0.07828201044280574, validation_loss: 0.18449938971468283\n",
      "epoch: 2, iteration: 794] training loss: 0.0753503735382227, validation_loss: 0.17835965288964944\n",
      "new best validation loss, saving..\n",
      "epoch: 3, iteration: 158] training loss: 0.07851450154616398, validation_loss: 0.17914521144500573\n",
      "epoch: 3, iteration: 317] training loss: 0.07658203873994215, validation_loss: 0.1771063927014399\n",
      "new best validation loss, saving..\n",
      "epoch: 3, iteration: 476] training loss: 0.07772468021080929, validation_loss: 0.17744062549394113\n",
      "epoch: 3, iteration: 635] training loss: 0.07586996163587151, validation_loss: 0.17724274868226572\n",
      "epoch: 3, iteration: 794] training loss: 0.07239596374660918, validation_loss: 0.1734426460613537\n",
      "new best validation loss, saving..\n",
      "epoch: 4, iteration: 158] training loss: 0.07593268657442909, validation_loss: 0.17589846090413633\n",
      "epoch: 4, iteration: 317] training loss: 0.07514817337944822, validation_loss: 0.17423955063619043\n",
      "epoch: 4, iteration: 476] training loss: 0.07323998561913862, validation_loss: 0.17346788095512788\n",
      "epoch: 4, iteration: 635] training loss: 0.07532050629269402, validation_loss: 0.18158892415585398\n",
      "epoch: 4, iteration: 794] training loss: 0.07441619830498905, validation_loss: 0.17794064830219292\n",
      "epoch: 5, iteration: 158] training loss: 0.0727056291118358, validation_loss: 0.17208760481773183\n",
      "new best validation loss, saving..\n",
      "epoch: 5, iteration: 317] training loss: 0.07458044220722697, validation_loss: 0.19116701124964852\n",
      "epoch: 5, iteration: 476] training loss: 0.07259369250269807, validation_loss: 0.1719524322340832\n",
      "new best validation loss, saving..\n",
      "epoch: 5, iteration: 635] training loss: 0.07504524447539318, validation_loss: 0.17281473818761503\n",
      "epoch: 5, iteration: 794] training loss: 0.0710635298874768, validation_loss: 0.17416787478546403\n",
      "epoch: 6, iteration: 158] training loss: 0.07403517298915852, validation_loss: 0.1728123911737423\n",
      "epoch: 6, iteration: 317] training loss: 0.07177695636666796, validation_loss: 0.17205214895227045\n",
      "epoch: 6, iteration: 476] training loss: 0.07138948297163225, validation_loss: 0.17132508090656728\n",
      "new best validation loss, saving..\n",
      "epoch: 6, iteration: 635] training loss: 0.07131212792775166, validation_loss: 0.17270947643555704\n",
      "epoch: 6, iteration: 794] training loss: 0.07305607469108119, validation_loss: 0.17106115908119018\n",
      "new best validation loss, saving..\n",
      "epoch: 7, iteration: 158] training loss: 0.07282192088991592, validation_loss: 0.1811153406945422\n",
      "epoch: 7, iteration: 317] training loss: 0.0713711346517194, validation_loss: 0.17063213281495426\n",
      "new best validation loss, saving..\n",
      "epoch: 7, iteration: 476] training loss: 0.07116585250639315, validation_loss: 0.1707182188072931\n",
      "epoch: 7, iteration: 635] training loss: 0.07149391445630002, validation_loss: 0.17088681509029935\n",
      "epoch: 7, iteration: 794] training loss: 0.07342795533297947, validation_loss: 0.17514718342167523\n",
      "epoch: 8, iteration: 158] training loss: 0.07095087471904245, validation_loss: 0.17178203257651115\n",
      "epoch: 8, iteration: 317] training loss: 0.07117792645340446, validation_loss: 0.1703084656239852\n",
      "new best validation loss, saving..\n",
      "epoch: 8, iteration: 476] training loss: 0.07025721481761092, validation_loss: 0.1701972649290996\n",
      "new best validation loss, saving..\n",
      "epoch: 8, iteration: 635] training loss: 0.0720589594833506, validation_loss: 0.1718423512926245\n",
      "epoch: 8, iteration: 794] training loss: 0.07437369874063528, validation_loss: 0.16904586687198148\n",
      "new best validation loss, saving..\n",
      "epoch: 9, iteration: 158] training loss: 0.07016354356453104, validation_loss: 0.17261658640294952\n",
      "epoch: 9, iteration: 317] training loss: 0.07137741607690007, validation_loss: 0.1689157328042\n",
      "new best validation loss, saving..\n",
      "epoch: 9, iteration: 476] training loss: 0.07306215935533152, validation_loss: 0.1718081807940388\n",
      "epoch: 9, iteration: 635] training loss: 0.06980307723553676, validation_loss: 0.17261612320156844\n",
      "epoch: 9, iteration: 794] training loss: 0.07065879666018036, validation_loss: 0.17141669974459905\n",
      "epoch: 10, iteration: 158] training loss: 0.07091225500939027, validation_loss: 0.17318782595026752\n",
      "epoch: 10, iteration: 317] training loss: 0.0720862054834201, validation_loss: 0.17095398802674663\n",
      "epoch: 10, iteration: 476] training loss: 0.07072786026218403, validation_loss: 0.1700309159477119\n",
      "epoch: 10, iteration: 635] training loss: 0.07171962396153864, validation_loss: 0.17015743931836402\n",
      "epoch: 10, iteration: 794] training loss: 0.07023173729953526, validation_loss: 0.17076439480297279\n",
      "epoch: 11, iteration: 158] training loss: 0.07002963186622416, validation_loss: 0.17367262971263547\n",
      "epoch: 11, iteration: 317] training loss: 0.06914303854763883, validation_loss: 0.17050434529538386\n",
      "epoch: 11, iteration: 476] training loss: 0.07117112744716728, validation_loss: 0.17631940236922508\n",
      "epoch: 11, iteration: 635] training loss: 0.06993540434998537, validation_loss: 0.1697345628990265\n",
      "epoch: 11, iteration: 794] training loss: 0.06891819680074476, validation_loss: 0.16917844163253892\n",
      "epoch: 12, iteration: 158] training loss: 0.0697462315548141, validation_loss: 0.1695187287202672\n",
      "epoch: 12, iteration: 317] training loss: 0.06601204060064922, validation_loss: 0.1700849223821221\n",
      "epoch: 12, iteration: 476] training loss: 0.07139250122994747, validation_loss: 0.17966510225897248\n",
      "epoch: 12, iteration: 635] training loss: 0.07045097464004403, validation_loss: 0.17043043450330914\n",
      "epoch: 12, iteration: 794] training loss: 0.06833340986719671, validation_loss: 0.1691000306594144\n",
      "epoch: 13, iteration: 158] training loss: 0.06715812224824473, validation_loss: 0.17655999239777104\n",
      "epoch: 13, iteration: 317] training loss: 0.06875227262857575, validation_loss: 0.16866127110045886\n",
      "new best validation loss, saving..\n",
      "epoch: 13, iteration: 476] training loss: 0.06668723205912788, validation_loss: 0.1693397223261063\n",
      "epoch: 13, iteration: 635] training loss: 0.07076840023012282, validation_loss: 0.16882394152976893\n",
      "epoch: 13, iteration: 794] training loss: 0.06782517094844542, validation_loss: 0.17004843463149405\n",
      "epoch: 14, iteration: 158] training loss: 0.06649059788236078, validation_loss: 0.17122458969242882\n",
      "epoch: 14, iteration: 317] training loss: 0.06974068583932312, validation_loss: 0.16952669882701477\n",
      "epoch: 14, iteration: 476] training loss: 0.06985983564137663, validation_loss: 0.1692088832673819\n",
      "epoch: 14, iteration: 635] training loss: 0.06893485257366919, validation_loss: 0.1775139220180395\n",
      "epoch: 14, iteration: 794] training loss: 0.06737044397390114, validation_loss: 0.16970381521336408\n",
      "epoch: 15, iteration: 158] training loss: 0.06769992368963529, validation_loss: 0.17082186810591293\n"
     ]
    },
    {
     "name": "stdout",
     "output_type": "stream",
     "text": [
      "epoch: 15, iteration: 317] training loss: 0.06836568950763289, validation_loss: 0.1691655088418528\n",
      "epoch: 15, iteration: 476] training loss: 0.06676226076464983, validation_loss: 0.1707597489711706\n",
      "epoch: 15, iteration: 635] training loss: 0.06679426039914665, validation_loss: 0.17222634256493466\n",
      "epoch: 15, iteration: 794] training loss: 0.06903236518678425, validation_loss: 0.1724866739595714\n",
      "epoch: 16, iteration: 158] training loss: 0.06553156594247939, validation_loss: 0.17251424799146856\n",
      "epoch: 16, iteration: 317] training loss: 0.06703649761166962, validation_loss: 0.17935186418016313\n",
      "epoch: 16, iteration: 476] training loss: 0.06793102085496644, validation_loss: 0.16982755268438032\n",
      "epoch: 16, iteration: 635] training loss: 0.06774806699850275, validation_loss: 0.16936151668145938\n",
      "epoch: 16, iteration: 794] training loss: 0.06636685299329788, validation_loss: 0.17208653775489202\n",
      "epoch: 17, iteration: 158] training loss: 0.06832002974906058, validation_loss: 0.1694000310507482\n",
      "epoch: 17, iteration: 317] training loss: 0.06590233548725925, validation_loss: 0.16870565044329205\n",
      "epoch: 17, iteration: 476] training loss: 0.06748282234623747, validation_loss: 0.16884419099306294\n",
      "epoch: 17, iteration: 635] training loss: 0.06752272831194056, validation_loss: 0.1701351539029374\n",
      "epoch: 17, iteration: 794] training loss: 0.06736220691189077, validation_loss: 0.17003451379866377\n",
      "epoch: 18, iteration: 158] training loss: 0.06731101291828186, validation_loss: 0.1701645305198009\n",
      "epoch: 18, iteration: 317] training loss: 0.06556695648146875, validation_loss: 0.17092986409957311\n",
      "epoch: 18, iteration: 476] training loss: 0.06580889524903687, validation_loss: 0.18025227695824983\n",
      "epoch: 18, iteration: 635] training loss: 0.06565971665506093, validation_loss: 0.1687868146185318\n",
      "epoch: 18, iteration: 794] training loss: 0.06899795381340591, validation_loss: 0.17136130705678274\n",
      "epoch: 19, iteration: 158] training loss: 0.06572413217252905, validation_loss: 0.1698824069563948\n",
      "epoch: 19, iteration: 317] training loss: 0.06645782877626659, validation_loss: 0.16903372557388377\n",
      "epoch: 19, iteration: 476] training loss: 0.06531139235920126, validation_loss: 0.17168977489168558\n",
      "epoch: 19, iteration: 635] training loss: 0.06842604478668866, validation_loss: 0.17024163372369247\n",
      "epoch: 19, iteration: 794] training loss: 0.06754670767757878, validation_loss: 0.1691187617328503\n",
      "Finished Training\n"
     ]
    }
   ],
   "source": [
    "net = Net()\n",
    "\n",
    "criterion = nn.MSELoss()\n",
    "optimizer = optim.Adam(net.parameters(), lr=1e-3)\n",
    "\n",
    "prints_per_epoch = 5\n",
    "\n",
    "verbose_k = np.floor(len(trainloader)/prints_per_epoch)\n",
    "\n",
    "\n",
    "train_losses = []\n",
    "val_losses = []\n",
    "iterations = []\n",
    "best_loss = None\n",
    "\n",
    "for epoch in range(20):\n",
    "\n",
    "    running_loss = 0.0\n",
    "    for i, data in enumerate(trainloader):\n",
    "        sequence, true_angles = data\n",
    "\n",
    "        # zero the parameter gradients\n",
    "        optimizer.zero_grad()\n",
    "\n",
    "        # forward + backward + optimize\n",
    "        predicted_angles = net(sequence)\n",
    "\n",
    "        loss = criterion(predicted_angles, true_angles)\n",
    "        loss.backward()\n",
    "        optimizer.step()\n",
    "        \n",
    "        # adding to running loss, we will output this at every verbose_k\n",
    "        running_loss += loss.item()\n",
    "        \n",
    "        if (i+1) % verbose_k == 0:   \n",
    "            train_losses.append(running_loss/verbose_k)\n",
    "            true_iter = len(trainloader)*epoch + i\n",
    "            iterations.append(true_iter)\n",
    "            net.eval()\n",
    "            validation_loss = 0\n",
    "            for k,j in enumerate(val_seqs):\n",
    "                pred_k = net(j)\n",
    "                loss_k = criterion(pred_k, val_angles_sin_cos[k]).item()\n",
    "                validation_loss += loss_k/len(val_seqs)\n",
    "            val_losses.append(validation_loss)\n",
    "            net.train()\n",
    "            print('epoch: {}, iteration: {}] training loss: {}, validation_loss: {}'.format(\n",
    "                epoch, i, running_loss/verbose_k, validation_loss))\n",
    "            \n",
    "            if best_loss == None:\n",
    "                best_loss = validation_loss\n",
    "            else:\n",
    "                if validation_loss <= min(val_losses):\n",
    "                    print('new best validation loss, saving..')\n",
    "                    best_loss = validation_loss\n",
    "                    torch.save(net.state_dict(), 'best_fcn_parameters.pt')\n",
    "\n",
    "            running_loss = 0.0\n",
    "\n",
    "print('Finished Training')"
   ]
  },
  {
   "cell_type": "code",
   "execution_count": 14,
   "metadata": {},
   "outputs": [],
   "source": [
    "net.load_state_dict(torch.load('/Users/Deathvoodoo/big_folders_docs/random/best_fcn_parameters.pt'))\n",
    "\n",
    "net.eval()\n",
    "\n",
    "validation_preds = [net(i) for i in val_seqs]"
   ]
  },
  {
   "cell_type": "code",
   "execution_count": 15,
   "metadata": {},
   "outputs": [
    {
     "data": {
      "image/png": "[encoded data removed]",
      "text/plain": [
       "<Figure size 432x288 with 1 Axes>"
      ]
     },
     "metadata": {
      "needs_background": "light"
     },
     "output_type": "display_data"
    }
   ],
   "source": [
    "plt.scatter(iterations, train_losses, label='train loss')\n",
    "plt.scatter(iterations, val_losses, label='validation loss')\n",
    "plt.legend()\n",
    "plt.show()"
   ]
  },
  {
   "cell_type": "markdown",
   "metadata": {},
   "source": [
    "Transform the predicted values back to angles and compare."
   ]
  },
  {
   "cell_type": "code",
   "execution_count": 16,
   "metadata": {},
   "outputs": [],
   "source": [
    "validation_preds_angles = [back_to_angle(i.detach().numpy()) for i in validation_preds]"
   ]
  },
  {
   "cell_type": "markdown",
   "metadata": {},
   "source": [
    "Choose a random protein as test protein"
   ]
  },
  {
   "cell_type": "code",
   "execution_count": 17,
   "metadata": {},
   "outputs": [],
   "source": [
    "test_protein = val_ids_remain[49]"
   ]
  },
  {
   "cell_type": "code",
   "execution_count": 19,
   "metadata": {},
   "outputs": [],
   "source": [
    "test_angles_real = val_angles[49]\n",
    "test_angles_pred = validation_preds_angles[49]"
   ]
  },
  {
   "cell_type": "markdown",
   "metadata": {},
   "source": [
    "Recover the amino acid sequence. Conveniently the onehot sequence has been filtered with the mask provided by the proteinnet file already, so this sequence will be filtered as well for residues missing atoms. \n",
    "We will make pdb files of the the predicted structure as well as the real structured although the coordinates for the real will be reconstructed from the angles instead of using the actual coordinates to make a more \"fair\" comparison, or something. These will be visualized in pymol."
   ]
  },
  {
   "cell_type": "code",
   "execution_count": 64,
   "metadata": {},
   "outputs": [],
   "source": [
    "def onehot_to_str(onehot_arr):\n",
    "    '''aa*N numpy array input'''\n",
    "    aas = []\n",
    "    N = onehot_arr.shape[1]\n",
    "    for i in range(N):\n",
    "        pos = np.where(onehot_arr[:, i]>0)[0]\n",
    "        aas.append(pos_aa_dict[int(pos)])\n",
    "    return \"\".join(aas)"
   ]
  },
  {
   "cell_type": "code",
   "execution_count": 65,
   "metadata": {},
   "outputs": [],
   "source": [
    "test_protein_seq = onehot_to_str(val_seqs[49].numpy()[0, :,:])"
   ]
  },
  {
   "cell_type": "code",
   "execution_count": 66,
   "metadata": {},
   "outputs": [],
   "source": [
    "def make_pb_structure(seq_str, angles):\n",
    "    psi = np.degrees(angles[0, :].tolist())\n",
    "    omega = np.degrees(angles[1, :].tolist())\n",
    "    phi = np.degrees(angles[2, :].tolist())\n",
    "    structure = PeptideBuilder.make_structure(seq_str, phi, psi, omega)\n",
    "    return(structure)"
   ]
  },
  {
   "cell_type": "code",
   "execution_count": 67,
   "metadata": {},
   "outputs": [],
   "source": [
    "test_structure_real = make_pb_structure(test_protein_seq, test_angles_real[0, :, :])"
   ]
  },
  {
   "cell_type": "code",
   "execution_count": 69,
   "metadata": {},
   "outputs": [],
   "source": [
    "test_structure_pred = make_pb_structure(test_protein_seq, test_angles_pred[0, :, :])"
   ]
  },
  {
   "cell_type": "code",
   "execution_count": 70,
   "metadata": {},
   "outputs": [],
   "source": [
    "import Bio.PDB\n",
    "def write_to_pdb(structure, prot_id, identifier):\n",
    "    out = Bio.PDB.PDBIO()\n",
    "    out.set_structure(structure)\n",
    "    out.save(prot_id + identifier + \".pdb\")"
   ]
  },
  {
   "cell_type": "code",
   "execution_count": 71,
   "metadata": {},
   "outputs": [],
   "source": [
    "write_to_pdb(test_structure_real, test_protein, '_real_v8')\n",
    "write_to_pdb(test_structure_pred, test_protein, '_pred_v8')"
   ]
  },
  {
   "cell_type": "markdown",
   "metadata": {},
   "source": [
    "We can open the saved pdb files in pymol, align them and save the image. Cyan = true, green = predicted."
   ]
  },
  {
   "cell_type": "code",
   "execution_count": 73,
   "metadata": {},
   "outputs": [
    {
     "data": {
      "image/png": "[encoded data removed]",
      "text/plain": [
       "<IPython.core.display.Image object>"
      ]
     },
     "metadata": {},
     "output_type": "display_data"
    }
   ],
   "source": [
    "from IPython.display import Image \n",
    "im = Image(filename=\"/Users/Deathvoodoo/big_folders_docs/random/protein_alignment_v8.png\")\n",
    "display(im)"
   ]
  },
  {
   "cell_type": "markdown",
   "metadata": {},
   "source": [
    "Not quite alphafold tier.\n",
    "<br>\n",
    "<br>\n",
    "Checking distribution of angles for the test protein."
   ]
  },
  {
   "cell_type": "code",
   "execution_count": 74,
   "metadata": {},
   "outputs": [
    {
     "name": "stdout",
     "output_type": "stream",
     "text": [
      "(1, 3, 242)\n",
      "(1, 3, 242)\n"
     ]
    }
   ],
   "source": [
    "print(test_angles_pred.shape)\n",
    "print(test_angles_real.shape)"
   ]
  },
  {
   "cell_type": "code",
   "execution_count": 167,
   "metadata": {},
   "outputs": [
    {
     "data": {
      "image/png": "[encoded data removed]",
      "text/plain": [
       "<Figure size 432x288 with 6 Axes>"
      ]
     },
     "metadata": {
      "needs_background": "light"
     },
     "output_type": "display_data"
    }
   ],
   "source": [
    "fig, axs = plt.subplots(3, 2, sharey=True, tight_layout=True)\n",
    "#n_bins=20\n",
    "labels = ['real', 'pred']\n",
    "axs[0, 0].hist(test_angles_real[0, 0,:])\n",
    "axs[0, 0].set_title('real')\n",
    "axs[0, 1].hist(test_angles_pred[0, 0,:])\n",
    "axs[0, 1].set_title('pred')\n",
    "axs[1, 0].hist(test_angles_real[0, 1,:])\n",
    "axs[1, 1].hist(test_angles_pred[0, 1,:])\n",
    "axs[2, 0].hist(test_angles_real[0, 2,:])\n",
    "axs[2, 1].hist(test_angles_pred[0, 2,:])\n",
    "plt.show()"
   ]
  },
  {
   "cell_type": "code",
   "execution_count": 76,
   "metadata": {},
   "outputs": [],
   "source": [
    "def make_coord_array(pdbstructure):\n",
    "    '''turn coordinates into an array to calculate rmsd'''\n",
    "    structure = pdbstructure\n",
    "    model = structure[0]\n",
    "    chain = model['A']\n",
    "\n",
    "    atom_coords = []\n",
    "    for atom in chain.get_atoms():\n",
    "        if atom.get_id()=='N':\n",
    "            atom_coords.append(atom.get_coord())\n",
    "        elif atom.get_id()=='CA':\n",
    "            atom_coords.append(atom.get_coord())\n",
    "        elif atom.get_id()=='C':\n",
    "            atom_coords.append(atom.get_coord())\n",
    "    atom_coords = np.array(atom_coords).T\n",
    "    return atom_coords\n",
    "    "
   ]
  },
  {
   "cell_type": "code",
   "execution_count": 134,
   "metadata": {},
   "outputs": [],
   "source": [
    "test_structure_coords_pred = make_coord_array(test_structure_pred)\n",
    "test_structure_coords_real = make_coord_array(test_structure_real)"
   ]
  },
  {
   "cell_type": "markdown",
   "metadata": {},
   "source": [
    "Check RMSD between predicted and 'real' coordinates."
   ]
  },
  {
   "cell_type": "code",
   "execution_count": 157,
   "metadata": {},
   "outputs": [
    {
     "name": "stdout",
     "output_type": "stream",
     "text": [
      "38.98346888462761\n"
     ]
    }
   ],
   "source": [
    "from numpy.linalg import svd, det\n",
    "def rmsd_calculator(x, y):\n",
    "    ''' rmsd code from first year of master degree, code might suck. Arrays must be 3*n '''\n",
    "    n = x.shape[1]\n",
    "    centered_x = (x.T - np.mean(x, 1)).T # centering the coordinates\n",
    "    centered_y = (y.T - np.mean(y, 1)).T\n",
    "    R = centered_y @ centered_x.T\n",
    "    V, S, WT = svd(R) # singular value decomposition\n",
    "    U = WT.T@V.T\n",
    "    Z = np.array([[1,0,0],[0,1,0],[0,0,-1]]) # matrix for reflection catch\n",
    "    if det(U) < 0: # reflection catch\n",
    "        U = WT.T @ Z @ V.T\n",
    "        S[2] = -S[2]\n",
    "    \n",
    "    E_0 = np.sum(centered_x**2+centered_y**2)\n",
    "    rmsd = np.sqrt(1/n*(E_0 - 2*np.sum(S)))\n",
    "    return(rmsd)\n",
    "\n",
    "\n",
    "print(rmsd_calculator(test_structure_coords_real, test_structure_coords_pred))"
   ]
  },
  {
   "cell_type": "markdown",
   "metadata": {},
   "source": [
    "Check RMSD between real coordinates and 'real' coordinates reconstructed from angles."
   ]
  },
  {
   "cell_type": "code",
   "execution_count": 158,
   "metadata": {},
   "outputs": [
    {
     "name": "stdout",
     "output_type": "stream",
     "text": [
      "1797.2509027557796\n"
     ]
    }
   ],
   "source": [
    "print(rmsd_calculator(test_structure_coords_real, val_coords[49]))"
   ]
  },
  {
   "cell_type": "markdown",
   "metadata": {},
   "source": [
    "Judging by that latter RMSD something has gone wrong somewhere as they should be much more similar. However, the main objective was to demonstrate pytorch."
   ]
  }
 ],
 "metadata": {
  "kernelspec": {
   "display_name": "Python 3",
   "language": "python",
   "name": "python3"
  },
  "language_info": {
   "codemirror_mode": {
    "name": "ipython",
    "version": 3
   },
   "file_extension": ".py",
   "mimetype": "text/x-python",
   "name": "python",
   "nbconvert_exporter": "python",
   "pygments_lexer": "ipython3",
   "version": "3.7.4"
  }
 },
 "nbformat": 4,
 "nbformat_minor": 2
}
