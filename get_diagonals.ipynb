{
 "cells": [
  {
   "cell_type": "markdown",
   "metadata": {},
   "source": [
    "Script to obtain diagonals of arrays, including rectangular arrays."
   ]
  },
  {
   "cell_type": "code",
   "execution_count": 1,
   "metadata": {},
   "outputs": [],
   "source": [
    "import numpy as np"
   ]
  },
  {
   "cell_type": "code",
   "execution_count": 2,
   "metadata": {},
   "outputs": [],
   "source": [
    "np.random.seed(536)"
   ]
  },
  {
   "cell_type": "code",
   "execution_count": 3,
   "metadata": {},
   "outputs": [],
   "source": [
    "test_wide = np.random.randint(0, 10, (4,10))\n",
    "test_long = np.random.randint(0, 10, (10,4))"
   ]
  },
  {
   "cell_type": "code",
   "execution_count": 4,
   "metadata": {},
   "outputs": [
    {
     "data": {
      "text/plain": [
       "array([[5, 2, 3, 5, 5, 1, 5, 9, 4, 0],\n",
       "       [9, 1, 4, 0, 6, 1, 4, 5, 0, 9],\n",
       "       [9, 7, 2, 1, 0, 8, 8, 0, 3, 4],\n",
       "       [6, 9, 0, 3, 7, 1, 5, 8, 8, 3]])"
      ]
     },
     "execution_count": 4,
     "metadata": {},
     "output_type": "execute_result"
    }
   ],
   "source": [
    "test_wide"
   ]
  },
  {
   "cell_type": "code",
   "execution_count": 5,
   "metadata": {},
   "outputs": [
    {
     "data": {
      "text/plain": [
       "array([[4, 5, 0, 5],\n",
       "       [0, 8, 2, 2],\n",
       "       [4, 5, 7, 6],\n",
       "       [3, 4, 4, 1],\n",
       "       [1, 6, 8, 6],\n",
       "       [2, 5, 4, 6],\n",
       "       [1, 5, 3, 8],\n",
       "       [8, 5, 4, 6],\n",
       "       [9, 0, 5, 4],\n",
       "       [4, 3, 1, 2]])"
      ]
     },
     "execution_count": 5,
     "metadata": {},
     "output_type": "execute_result"
    }
   ],
   "source": [
    "test_long"
   ]
  },
  {
   "cell_type": "code",
   "execution_count": 6,
   "metadata": {},
   "outputs": [
    {
     "data": {
      "text/plain": [
       "array([5, 2, 6])"
      ]
     },
     "execution_count": 6,
     "metadata": {},
     "output_type": "execute_result"
    }
   ],
   "source": [
    "np.diag(test_long, 1) # compare with numpy's inbuilt function"
   ]
  },
  {
   "cell_type": "code",
   "execution_count": 7,
   "metadata": {},
   "outputs": [
    {
     "data": {
      "text/plain": [
       "array([1, 5])"
      ]
     },
     "execution_count": 7,
     "metadata": {},
     "output_type": "execute_result"
    }
   ],
   "source": [
    "test_wide[[0,3], [5,6]]"
   ]
  },
  {
   "cell_type": "code",
   "execution_count": 11,
   "metadata": {},
   "outputs": [],
   "source": [
    "def get_diag(arr, k=0, from_element=None):\n",
    "    '''from element = coordinates of an array element,\n",
    "        use if want to calculate the offset from coords\n",
    "        instead of giving the offset itself'''\n",
    "    N,M = arr.shape\n",
    "    if from_element != None:\n",
    "        k = from_element[1] - from_element[0] # same as numpy\n",
    "    if k > 0:\n",
    "        row_lim = min(N, M-k)\n",
    "        possible_rows = np.arange(0, row_lim)\n",
    "        col_lim = min(M, k+N)\n",
    "        possible_cols = np.arange(k, col_lim)\n",
    "    elif k =< 0:\n",
    "        row_lim = min(N, -k+M)\n",
    "        possible_rows = np.arange(-k, row_lim)\n",
    "        col_lim = min(M, N-(-k))\n",
    "        possible_cols = np.arange(0, col_lim)\n",
    "    return(arr[possible_rows, possible_cols])"
   ]
  },
  {
   "cell_type": "code",
   "execution_count": 26,
   "metadata": {},
   "outputs": [
    {
     "data": {
      "text/plain": [
       "array([4, 8, 7, 1])"
      ]
     },
     "execution_count": 26,
     "metadata": {},
     "output_type": "execute_result"
    }
   ],
   "source": [
    "get_diag(test_long, k=0)"
   ]
  },
  {
   "cell_type": "code",
   "execution_count": 27,
   "metadata": {},
   "outputs": [
    {
     "data": {
      "text/plain": [
       "array([8, 0, 1])"
      ]
     },
     "execution_count": 27,
     "metadata": {},
     "output_type": "execute_result"
    }
   ],
   "source": [
    "get_diag(test_long, k=-7)"
   ]
  },
  {
   "cell_type": "code",
   "execution_count": 30,
   "metadata": {},
   "outputs": [
    {
     "data": {
      "text/plain": [
       "array([9, 0, 4])"
      ]
     },
     "execution_count": 30,
     "metadata": {},
     "output_type": "execute_result"
    }
   ],
   "source": [
    "get_diag(test_wide, k=7)"
   ]
  },
  {
   "cell_type": "code",
   "execution_count": null,
   "metadata": {},
   "outputs": [],
   "source": []
  }
 ],
 "metadata": {
  "kernelspec": {
   "display_name": "Python 3.7.4 64-bit",
   "language": "python",
   "name": "python37464bitdff059f72f8b417fb86b0d43a0194990"
  },
  "language_info": {
   "codemirror_mode": {
    "name": "ipython",
    "version": 3
   },
   "file_extension": ".py",
   "mimetype": "text/x-python",
   "name": "python",
   "nbconvert_exporter": "python",
   "pygments_lexer": "ipython3",
   "version": "3.7.4"
  }
 },
 "nbformat": 4,
 "nbformat_minor": 2
}
