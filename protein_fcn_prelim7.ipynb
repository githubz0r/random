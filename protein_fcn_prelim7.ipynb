{
 "cells": [
  {
   "cell_type": "markdown",
   "metadata": {},
   "source": [
    "Trying to make a FCN to predict dihedral angles. Some of the code adapted from Jeppe's openprotein https://github.com/biolib/openprotein. The data is from https://github.com/aqlaboratory/proteinnet casp7, text based."
   ]
  },
  {
   "cell_type": "code",
   "execution_count": 1,
   "metadata": {},
   "outputs": [],
   "source": [
    "import numpy as np\n",
    "import torch\n",
    "import imp\n",
    "import re\n",
    "import matplotlib.pyplot as plt"
   ]
  },
  {
   "cell_type": "code",
   "execution_count": 2,
   "metadata": {},
   "outputs": [],
   "source": [
    "aa_id_dict = {'A': 0, 'C': 1, 'D': 2, 'E': 3, 'F': 4, 'G': 5, 'H': 6, 'I': 7,\n",
    "              'K': 8, 'L': 9, 'M': 10, 'N': 11, 'P': 12, 'Q': 13, 'R': 14, \n",
    "              'S': 15, 'T': 16, 'V': 17, 'W': 18, 'Y': 19}\n"
   ]
  },
  {
   "cell_type": "markdown",
   "metadata": {},
   "source": [
    "First define some helper functions."
   ]
  },
  {
   "cell_type": "code",
   "execution_count": 3,
   "metadata": {},
   "outputs": [],
   "source": [
    "def aa_to_onehot(aa_str, aa_to_nr, mask=None):\n",
    "    \"\"\"\n",
    "    Onehot encode an amino acid string using a letter to number dictionary.\n",
    "    The mask (from proteinnet files) is used to remove residues missing atoms from the primary sequence.\n",
    "    \"\"\"\n",
    "    if mask!=None:\n",
    "        mask_ind = np.asarray([x=='+' for x in mask])*1\n",
    "        mask_ind = np.nonzero(mask_ind)\n",
    "        aa_str = \"\".join([aa_str[x] for x in mask_ind[0]]) # the mask indices are a list in a list\n",
    "    init_array = np.zeros( (len(aa_to_nr.keys()), len(aa_str)) )\n",
    "    for i,j in enumerate(aa_str):\n",
    "        init_array[aa_to_nr[j], i] = 1\n",
    "    return(init_array)\n",
    "\n",
    "def filter_primary(aa_str, mask):\n",
    "    '''\n",
    "    Need this later on for writing pdb files, but should probably just use it at the start...\n",
    "    '''\n",
    "    mask_ind = np.asarray([x=='+' for x in mask])*1\n",
    "    mask_ind = np.nonzero(mask_ind)\n",
    "    aa_str = \"\".join([aa_str[x] for x in mask_ind[0]]) # the mask indices are a list in a list\n",
    "    return(aa_str)"
   ]
  },
  {
   "cell_type": "code",
   "execution_count": 4,
   "metadata": {},
   "outputs": [],
   "source": [
    "def read_proteinnet_file(file, stop_at=1000, verbose=True):\n",
    "    \"\"\"\n",
    "    Read a proteinnet file. Will also filter the 3D coordinates using the mask\n",
    "    and remove proteins with chainbreaks and missing structures. \n",
    "    A certain number of proteins are loaded.\n",
    "    \"\"\"\n",
    "    protein_dict = {}\n",
    "    with open(file) as input:\n",
    "        lines = input.readlines()\n",
    "        curr_id = None\n",
    "        for i, line in enumerate(lines):\n",
    "            line = line.strip()\n",
    "            if line == '[ID]':\n",
    "                curr_id = lines[i+1].strip()\n",
    "                protein_dict[curr_id] = {}\n",
    "                protein_dict[curr_id]['primary'] = lines[i+3].strip()\n",
    "            if line == '[TERTIARY]':\n",
    "                coords = []\n",
    "                for j in range(3):\n",
    "                    coords.append(np.fromstring(lines[i+j+1], sep='\\t'))\n",
    "                protein_dict[curr_id]['tertiary'] = np.array(coords)\n",
    "            if line == '[MASK]':\n",
    "                protein_dict[curr_id]['mask'] = lines[i+1].strip()\n",
    "            if len(protein_dict.keys()) >= stop_at:\n",
    "                break\n",
    "    filter_seqs(protein_dict, verbose)\n",
    "    return(protein_dict)"
   ]
  },
  {
   "cell_type": "code",
   "execution_count": 5,
   "metadata": {},
   "outputs": [],
   "source": [
    "def filter_coords(coords, mask):\n",
    "    \"\"\"\n",
    "    Filter atomic coordinates (for residues missing some) using the mask.\n",
    "    coords = 3*(N*3) array, since each residue has N, CA and C\n",
    "    \"\"\"\n",
    "    mask = np.array([x=='+' for x in mask])\n",
    "    mask_stretched = np.repeat(mask, 3)\n",
    "    coords_filt = coords[:, mask_stretched]\n",
    "    return(coords_filt)\n",
    "\n",
    "def filter_seqs(protein_dict, verbose):\n",
    "    re_chainbreak = re.compile(\"\\-*\\+*\\+\\-+\\+\\+*\\-*\") # match for a mask with internal chainbreaks\n",
    "    keys_to_remove = {}\n",
    "    for key in protein_dict.keys():\n",
    "        if len(protein_dict[key].keys()) < 3:\n",
    "            keys_to_remove[key] = ' missing structure, removing...'\n",
    "            continue\n",
    "        mask = protein_dict[key]['mask']\n",
    "        if re_chainbreak.search(mask):\n",
    "            keys_to_remove[key] = \" has a chainbreak, removing...\"\n",
    "        else:\n",
    "            coords = protein_dict[key]['tertiary']\n",
    "            coords_filt = filter_coords(coords, mask)\n",
    "            protein_dict[key]['tertiary'] = coords_filt\n",
    "    for key in keys_to_remove.keys():\n",
    "        if verbose:\n",
    "            print(key, keys_to_remove[key])\n",
    "        del protein_dict[key]\n",
    "\n",
    "def new_dihedral(p0, p1, p2, p3):\n",
    "    \"\"\"Praxeolitic formula\n",
    "    1 sqrt, 1 cross product\n",
    "    \n",
    "    copied from \n",
    "    https://stackoverflow.com/questions/20305272/\n",
    "    dihedral-torsion-angle-from-four-points-in-cartesian-coordinates-in-python\"\"\"\n",
    "\n",
    "    b0 = -1.0*(p1 - p0)\n",
    "    b1 = p2 - p1\n",
    "    b2 = p3 - p2\n",
    "\n",
    "    # normalize b1 so that it does not influence magnitude of vector\n",
    "    # rejections that come next\n",
    "    b1 /= np.linalg.norm(b1)\n",
    "\n",
    "    # vector rejections\n",
    "    # v = projection of b0 onto plane perpendicular to b1\n",
    "    #   = b0 minus component that aligns with b1\n",
    "    # w = projection of b2 onto plane perpendicular to b1\n",
    "    #   = b2 minus component that aligns with b1\n",
    "    v = b0 - np.dot(b0, b1)*b1\n",
    "    w = b2 - np.dot(b2, b1)*b1\n",
    "\n",
    "    # angle between v and w in a plane is the torsion angle\n",
    "    # v and w may not be normalized but that's fine since tan is y/x\n",
    "    x = np.dot(v, w)\n",
    "    y = np.dot(np.cross(b1, v), w)\n",
    "    #return np.degrees(np.arctan2(y, x))\n",
    "    return np.arctan2(y, x)\n",
    "\n",
    "def calc_angles(coords):\n",
    "    '''\n",
    "    Basically loops over the coordinates and calculates the dihedral angles.\n",
    "    There should be ways to do this with vectorized computations but I don't know how.\n",
    "    '''\n",
    "    N = coords.shape[1]\n",
    "    angles_all = []\n",
    "    for i in range(0, N-3, 3):\n",
    "        psi = new_dihedral(*[coords[:, x] for x in range(i, i+4)])\n",
    "        omega = new_dihedral(*[coords[:, x] for x in range(i+1, i+5)])\n",
    "        phi = new_dihedral(*[coords[:, x] for x in range(i+2, i+6)])\n",
    "        angles = [psi, omega, phi]\n",
    "        angles_all.append(angles)\n",
    "    return(np.array(angles_all))"
   ]
  },
  {
   "cell_type": "markdown",
   "metadata": {},
   "source": [
    "Load some proteins."
   ]
  },
  {
   "cell_type": "code",
   "execution_count": 6,
   "metadata": {},
   "outputs": [],
   "source": [
    "train_proteins = read_proteinnet_file('/Users/Deathvoodoo/big_folders_docs/data/casp7/training_70', 3000, verbose=False)\n",
    "val_proteins = read_proteinnet_file('/Users/Deathvoodoo/big_folders_docs/data/casp7/validation', 200, verbose=False)"
   ]
  },
  {
   "cell_type": "markdown",
   "metadata": {},
   "source": [
    "Use the function below to transform the sequences and coordinates into one-hot encoding and dihedral angles. The easiest thing to do would be to pad everything to the length of the longest protein and put it in one tensor, but this has consequences for the output of the network later (nonzero outputs at places that should be zero).\n",
    "<br>\n",
    "<br>\n",
    "Note that since I don't have access to powerful compute resources I'm only running with a small number of proteins for training and validation."
   ]
  },
  {
   "cell_type": "code",
   "execution_count": 7,
   "metadata": {},
   "outputs": [],
   "source": [
    "def get_onehot_angles(protein_dict, pad, max_length=1500):\n",
    "    \"\"\"\n",
    "    Get onehot sequence and calculate angles from 3d coords for the protein dictionary.\n",
    "    Sometimes the angle calculation will produce nans, we remove those sequences.\n",
    "    If pad==True we will numbers as tensors, otherwise lists, along with remaining ids.\n",
    "    \"\"\"\n",
    "    remaining_ids = list(protein_dict.keys())\n",
    "    sequence_list = []\n",
    "    angle_list = []\n",
    "    for key in protein_dict.keys():\n",
    "        sequence = aa_to_onehot(protein_dict[key]['primary'], aa_id_dict, protein_dict[key]['mask'])\n",
    "        coords = protein_dict[key]['tertiary']\n",
    "        angles = calc_angles(coords).T\n",
    "        if pad:\n",
    "            if max_length-sequence.shape[0] < 0:\n",
    "                print(key, ' exceeds max length: ', max_length, ' , skipping...')\n",
    "                continue\n",
    "            else:\n",
    "                # pad the width, current shape is C*W\n",
    "                sequence_padded = np.pad(\n",
    "                    sequence, pad_width = ((0,0), (0, max_length-sequence.shape[1])), \n",
    "                    constant_values = 0)\n",
    "                sequence_list.append(sequence_padded)\n",
    "                angles_padded = np.pad(\n",
    "                    angles, pad_width = ((0,0), (0, max_length-sequence.shape[1])),\n",
    "                    constant_values = 0)\n",
    "                angle_list.append(angles_padded)\n",
    "        else: \n",
    "            angle_list.append(angles)\n",
    "            sequence_list.append(sequence)\n",
    "    N = len(sequence_list)\n",
    "    have_nans = []\n",
    "    for i,j in enumerate(angle_list):\n",
    "        if np.isnan(j).any():\n",
    "            have_nans.append(i)\n",
    "    inds_to_keep = np.arange(N)[np.logical_not(np.isin(np.arange(N), have_nans))].tolist()\n",
    "    \n",
    "    sequence_list = [sequence_list[i] for i in inds_to_keep]\n",
    "    angle_list = [angle_list[i] for i in inds_to_keep]\n",
    "    remaining_ids = [remaining_ids[i] for i in inds_to_keep]\n",
    "    if pad:\n",
    "        sequence_tensor = torch.tensor(sequence_list).float()\n",
    "        sequence_tensor = sequence_tensor #.unsqueeze(1)\n",
    "        angle_tensor = torch.tensor(angle_list).float()\n",
    "        angle_tensor = angle_tensor #.unsqueeze(1)\n",
    "        return([sequence_tensor, angle_tensor, remaining_ids])\n",
    "    else:\n",
    "        for i in range(len(sequence_list)):\n",
    "            ith_seq = (torch.tensor(sequence_list[i]).float()).unsqueeze(0)\n",
    "            sequence_list[i] = ith_seq #.unsqueeze(0)\n",
    "            ith_angles = (torch.tensor(angle_list[i]).float()).unsqueeze(0)\n",
    "            angle_list[i] = ith_angles #.unsqueeze(0)\n",
    "        return([sequence_list, angle_list, remaining_ids])"
   ]
  },
  {
   "cell_type": "code",
   "execution_count": 8,
   "metadata": {},
   "outputs": [
    {
     "name": "stderr",
     "output_type": "stream",
     "text": [
      "/usr/local/lib/python3.7/site-packages/ipykernel_launcher.py:44: RuntimeWarning: invalid value encountered in true_divide\n"
     ]
    }
   ],
   "source": [
    "train_seqs, train_angles, train_ids_remain = get_onehot_angles(train_proteins, pad=False)"
   ]
  },
  {
   "cell_type": "code",
   "execution_count": 9,
   "metadata": {},
   "outputs": [
    {
     "name": "stderr",
     "output_type": "stream",
     "text": [
      "/usr/local/lib/python3.7/site-packages/ipykernel_launcher.py:44: RuntimeWarning: invalid value encountered in true_divide\n"
     ]
    }
   ],
   "source": [
    "val_seqs, val_angles, val_ids_remain = get_onehot_angles(val_proteins, pad=False)"
   ]
  },
  {
   "cell_type": "markdown",
   "metadata": {},
   "source": [
    "We will also calculate sin and cos to transform the angles into better values for the squared loss error function."
   ]
  },
  {
   "cell_type": "code",
   "execution_count": 10,
   "metadata": {},
   "outputs": [],
   "source": [
    "def get_sin_cos(array, as_torch_tensor=True):\n",
    "    sin = np.sin(array)\n",
    "    cos = np.cos(array)\n",
    "    sin_cos = np.concatenate([sin, cos], axis=1)\n",
    "    if as_torch_tensor:\n",
    "        sin_cos = torch.tensor(sin_cos)\n",
    "    return(sin_cos)\n",
    "\n",
    "def back_to_angle(sin_cos_array, n_angles=3):\n",
    "    angles = []\n",
    "    for i in range(n_angles):\n",
    "        angles_i = np.arctan2(sin_cos_array[:, i, :], sin_cos_array[:, n_angles+i, :])\n",
    "        # remember that we input sin first due to atan2 definition\n",
    "        angles_i = angles_i[:, np.newaxis, :]\n",
    "        angles.append(angles_i)\n",
    "    angles_arr = np.concatenate(angles, 1)\n",
    "    return(angles_arr)"
   ]
  },
  {
   "cell_type": "code",
   "execution_count": 11,
   "metadata": {},
   "outputs": [],
   "source": [
    "train_angles_sin_cos = [get_sin_cos(i) for i in train_angles]\n",
    "val_angles_sin_cos = [get_sin_cos(i) for i in val_angles]"
   ]
  },
  {
   "cell_type": "markdown",
   "metadata": {},
   "source": [
    "We write a dataset class for the torch DataLoader. Since we also want to pad the minibatches instead of everything, we also need a custom collate function to deal with this. "
   ]
  },
  {
   "cell_type": "code",
   "execution_count": 12,
   "metadata": {},
   "outputs": [],
   "source": [
    "from torch.utils.data import Dataset\n",
    "class proteindataset(torch.utils.data.Dataset):\n",
    "    def __init__(self, seqs, angles):\n",
    "        self.sequences = seqs\n",
    "        self.angles = angles\n",
    "\n",
    "    def __len__(self):\n",
    "        return len(self.sequences)\n",
    "\n",
    "    def __getitem__(self, idx):\n",
    "        return [self.sequences[idx], self.angles[idx]]\n",
    "\n",
    "def protein_collate(batch):\n",
    "    seqs = [item[0] for item in batch]\n",
    "    angles = [item[1] for item in batch]\n",
    "    max_len = max([x.shape[2] for x in seqs])\n",
    "    for i in range(len(batch)):\n",
    "        curr_len = seqs[i].shape[2]\n",
    "        seq_padded = np.pad(seqs[i], ((0,0 ), (0,0), (0,max_len-curr_len)), constant_values = 0)\n",
    "        angles_padded = np.pad(angles[i], ((0,0 ), (0,0), (0,max_len-curr_len)), constant_values = 0)\n",
    "        seqs[i] = torch.tensor(seq_padded)\n",
    "        angles[i] = torch.tensor(angles_padded)\n",
    "    seq_tensor = torch.cat(seqs, 0)\n",
    "    angle_tensor = torch.cat(angles, 0)\n",
    "    return([seq_tensor, angle_tensor])\n",
    "    "
   ]
  },
  {
   "cell_type": "code",
   "execution_count": 13,
   "metadata": {},
   "outputs": [],
   "source": [
    "train_dataset = proteindataset(train_seqs, train_angles_sin_cos)\n",
    "val_dataset = proteindataset(val_seqs, val_angles_sin_cos)"
   ]
  },
  {
   "cell_type": "code",
   "execution_count": 14,
   "metadata": {},
   "outputs": [],
   "source": [
    "trainloader = torch.utils.data.DataLoader(train_dataset, batch_size=4,\n",
    "                                          shuffle=True, num_workers=2, collate_fn=protein_collate)\n",
    "valloader = torch.utils.data.DataLoader(val_dataset, batch_size=100,\n",
    "                                         shuffle=False, num_workers=2, collate_fn=protein_collate)\n",
    "#testloader = torch.utils.data.DataLoader(test_dataset, batch_size=100,\n",
    "                                         #shuffle=False, num_workers=2)"
   ]
  },
  {
   "cell_type": "markdown",
   "metadata": {},
   "source": [
    "Define and run a FCN with mean squared error as loss function. Angles are transformed to sin/cos and will be backtransformed with arctan 2 after training\n",
    "<br>\n",
    "First half of the network does convolution and the second half does up-convolution. It also has some skip connections like the U-NET architecture (but simpler).\n",
    "<br>\n",
    "<br>\n",
    "The proteins are encoded as $N*C*L$ where $C$ = 20 (number of amino acids) and $L$ = length."
   ]
  },
  {
   "cell_type": "code",
   "execution_count": 15,
   "metadata": {},
   "outputs": [],
   "source": [
    "import torch.nn as nn\n",
    "import torch.nn.functional as F\n",
    "import torch.optim as optim\n",
    "\n",
    "\n",
    "class Net(nn.Module):\n",
    "    def __init__(self):\n",
    "        super(Net, self).__init__()\n",
    "        self.conv0 = nn.Conv1d(20, 20, kernel_size=1)\n",
    "        self.conv0_bn = torch.nn.BatchNorm1d(20)\n",
    "        self.conv1 = nn.Conv1d(20, 15, kernel_size=4) # down\n",
    "        self.conv1_bn = torch.nn.BatchNorm1d(15)\n",
    "        self.conv2 = nn.Conv1d(15, 30, kernel_size=4) # down \n",
    "        self.conv2_bn = torch.nn.BatchNorm1d(30)\n",
    "        self.conv3 = nn.Conv1d(30, 24, kernel_size=6) # down, valley\n",
    "        self.conv3_bn = torch.nn.BatchNorm1d(24)\n",
    "        self.conv4 = nn.Conv1d(24, 24, kernel_size=1)\n",
    "        self.conv4_bn = torch.nn.BatchNorm1d(24)\n",
    "        \n",
    "        self.deconv1 = nn.ConvTranspose1d(in_channels=24, out_channels=30, kernel_size=6) # up\n",
    "        self.deconv1_bn = torch.nn.BatchNorm1d(30)\n",
    "        self.conv5 = nn.Conv1d(30, 30, 1)\n",
    "        self.conv5_bn = torch.nn.BatchNorm1d(30)\n",
    "        \n",
    "        self.deconv2 = nn.ConvTranspose1d(in_channels=60, out_channels=15, kernel_size=4) # up\n",
    "        self.deconv2_bn = torch.nn.BatchNorm1d(15)\n",
    "        self.conv6 = nn.Conv1d(15, 15, 1)\n",
    "        self.conv6_bn = torch.nn.BatchNorm1d(15)\n",
    "        \n",
    "        self.deconv3 = nn.ConvTranspose1d(in_channels=30, out_channels=15, kernel_size=3) # up\n",
    "        self.deconv3_bn = torch.nn.BatchNorm1d(15)\n",
    "        self.conv7 = nn.Conv1d(15, 6, (1))\n",
    "        self.conv7_bn = torch.nn.BatchNorm1d(6)\n",
    "        self.conv8 = nn.Conv1d(6, 6, 1)\n",
    "        self.conv8_bn = torch.nn.BatchNorm1d(6)\n",
    "        self.conv9 = nn.Conv1d(6, 6, 1)\n",
    "\n",
    "    def forward(self, x):\n",
    "        conv0_out = F.relu(self.conv0_bn(self.conv0(x)))\n",
    "        conv1_out = F.relu(self.conv1_bn(self.conv1(conv0_out)))\n",
    "        conv2_out = F.relu(self.conv2_bn(self.conv2(conv1_out)))\n",
    "        conv3_out = F.relu(self.conv3_bn(self.conv3(conv2_out)))\n",
    "        conv4_out = F.relu(self.conv4_bn(self.conv4(conv3_out)))\n",
    "\n",
    "        deconv1_out = F.relu(self.deconv1_bn(self.deconv1(conv4_out)))\n",
    "        conv5_out = F.relu(self.conv5_bn(self.conv5(deconv1_out)))\n",
    "        \n",
    "        deconv2_input = torch.cat((conv2_out, deconv1_out), 1)  \n",
    "        deconv2_out = F.relu(self.deconv2_bn(self.deconv2(deconv2_input)))\n",
    "        conv6_out = F.relu(self.conv6_bn(self.conv6(deconv2_out)))\n",
    "        \n",
    "        deconv3_input = torch.cat((conv1_out, deconv2_out), 1)\n",
    "        deconv3_out = F.relu(self.deconv3_bn(self.deconv3(deconv3_input)))\n",
    "        conv7_out = F.relu(self.conv7_bn(self.conv7(deconv3_out)))\n",
    "        conv8_out = F.relu(self.conv8_bn(self.conv8(conv7_out)))\n",
    "        conv9_out = self.conv9(conv8_out)\n",
    "        return conv9_out\n",
    "\n"
   ]
  },
  {
   "cell_type": "markdown",
   "metadata": {},
   "source": [
    "Train the network."
   ]
  },
  {
   "cell_type": "code",
   "execution_count": 16,
   "metadata": {},
   "outputs": [
    {
     "name": "stdout",
     "output_type": "stream",
     "text": [
      "epoch: 0, iteration: 118] training loss: 0.3886937973629527, validation_loss: 0.46820328157881036\n",
      "epoch: 0, iteration: 237] training loss: 0.2324230488107986, validation_loss: 0.2792795018194625\n",
      "new best validation loss, saving..\n",
      "epoch: 0, iteration: 356] training loss: 0.15351772408525483, validation_loss: 0.23280459401770412\n",
      "new best validation loss, saving..\n",
      "epoch: 0, iteration: 475] training loss: 0.13537751758048513, validation_loss: 0.21611089037256945\n",
      "new best validation loss, saving..\n",
      "epoch: 0, iteration: 594] training loss: 0.13168821702985203, validation_loss: 0.20830925313397225\n",
      "new best validation loss, saving..\n",
      "epoch: 1, iteration: 118] training loss: 0.12634562056104676, validation_loss: 0.20258381363490366\n",
      "new best validation loss, saving..\n",
      "epoch: 1, iteration: 237] training loss: 0.12478696016453895, validation_loss: 0.19833944548175944\n",
      "new best validation loss, saving..\n",
      "epoch: 1, iteration: 356] training loss: 0.11848319359436757, validation_loss: 0.1954507358279658\n",
      "new best validation loss, saving..\n",
      "epoch: 1, iteration: 475] training loss: 0.1112000838923855, validation_loss: 0.19351953980715383\n",
      "new best validation loss, saving..\n",
      "epoch: 1, iteration: 594] training loss: 0.11789320158858259, validation_loss: 0.19020950824299968\n",
      "new best validation loss, saving..\n",
      "epoch: 2, iteration: 118] training loss: 0.11288132599922789, validation_loss: 0.1888885110940621\n",
      "new best validation loss, saving..\n",
      "epoch: 2, iteration: 237] training loss: 0.11131666757228996, validation_loss: 0.19415384854959403\n",
      "epoch: 2, iteration: 356] training loss: 0.11461553948015726, validation_loss: 0.1888787902151205\n",
      "new best validation loss, saving..\n",
      "epoch: 2, iteration: 475] training loss: 0.10947295879366017, validation_loss: 0.18737777102715475\n",
      "new best validation loss, saving..\n",
      "epoch: 2, iteration: 594] training loss: 0.11313699480114865, validation_loss: 0.1860005676468707\n",
      "new best validation loss, saving..\n",
      "epoch: 3, iteration: 118] training loss: 0.10831697416656158, validation_loss: 0.18695916496911394\n",
      "epoch: 3, iteration: 237] training loss: 0.10638814482117902, validation_loss: 0.1848433503175374\n",
      "new best validation loss, saving..\n",
      "epoch: 3, iteration: 356] training loss: 0.10808718242064244, validation_loss: 0.18585021784586936\n",
      "epoch: 3, iteration: 475] training loss: 0.11377518029273057, validation_loss: 0.18428389586924782\n",
      "new best validation loss, saving..\n",
      "epoch: 3, iteration: 594] training loss: 0.10989515339376546, validation_loss: 0.186526003368893\n",
      "epoch: 4, iteration: 118] training loss: 0.11222216123793305, validation_loss: 0.18330795808423372\n",
      "new best validation loss, saving..\n",
      "epoch: 4, iteration: 237] training loss: 0.1063478038716717, validation_loss: 0.18547306040891953\n",
      "epoch: 4, iteration: 356] training loss: 0.10673065048431148, validation_loss: 0.18361889781511345\n",
      "epoch: 4, iteration: 475] training loss: 0.10830633608358246, validation_loss: 0.18440704301045918\n",
      "epoch: 4, iteration: 594] training loss: 0.10772999764240089, validation_loss: 0.1829838498917795\n",
      "new best validation loss, saving..\n",
      "epoch: 5, iteration: 118] training loss: 0.10247368387439672, validation_loss: 0.1840322276820308\n",
      "epoch: 5, iteration: 237] training loss: 0.108881789502226, validation_loss: 0.18260928014328026\n",
      "new best validation loss, saving..\n",
      "epoch: 5, iteration: 356] training loss: 0.10602221237260755, validation_loss: 0.18307739153782032\n",
      "epoch: 5, iteration: 475] training loss: 0.10814184682960269, validation_loss: 0.18261093553734117\n",
      "epoch: 5, iteration: 594] training loss: 0.10556721918973602, validation_loss: 0.18121034547871684\n",
      "new best validation loss, saving..\n",
      "epoch: 6, iteration: 118] training loss: 0.10400761056597493, validation_loss: 0.1824842524708983\n",
      "epoch: 6, iteration: 237] training loss: 0.10657978010903887, validation_loss: 0.18884541272469196\n",
      "epoch: 6, iteration: 356] training loss: 0.10734365417175934, validation_loss: 0.18111809671665563\n",
      "new best validation loss, saving..\n",
      "epoch: 6, iteration: 475] training loss: 0.10236871430352956, validation_loss: 0.1808881900325325\n",
      "new best validation loss, saving..\n",
      "epoch: 6, iteration: 594] training loss: 0.1103788700048663, validation_loss: 0.1877692841595004\n",
      "epoch: 7, iteration: 118] training loss: 0.10392501580865443, validation_loss: 0.18233932219214313\n",
      "epoch: 7, iteration: 237] training loss: 0.10720533176380045, validation_loss: 0.18058062458167898\n",
      "new best validation loss, saving..\n",
      "epoch: 7, iteration: 356] training loss: 0.1055326896930943, validation_loss: 0.18067393711079713\n",
      "epoch: 7, iteration: 475] training loss: 0.10507314135672666, validation_loss: 0.18315645427622412\n",
      "epoch: 7, iteration: 594] training loss: 0.10795411220242997, validation_loss: 0.1802914188654156\n",
      "new best validation loss, saving..\n",
      "epoch: 8, iteration: 118] training loss: 0.10227693285511322, validation_loss: 0.183884079689565\n",
      "epoch: 8, iteration: 237] training loss: 0.10352416208186069, validation_loss: 0.18120450528789747\n",
      "epoch: 8, iteration: 356] training loss: 0.10501397081783839, validation_loss: 0.183567581108268\n",
      "epoch: 8, iteration: 475] training loss: 0.1065501249825754, validation_loss: 0.18093374646876165\n",
      "epoch: 8, iteration: 594] training loss: 0.10715287454238459, validation_loss: 0.18422499745621446\n",
      "epoch: 9, iteration: 118] training loss: 0.09918434057040375, validation_loss: 0.18153073286973173\n",
      "epoch: 9, iteration: 237] training loss: 0.10206811771798535, validation_loss: 0.17951888954324743\n",
      "new best validation loss, saving..\n",
      "epoch: 9, iteration: 356] training loss: 0.10890051503391827, validation_loss: 0.18030395858591403\n",
      "epoch: 9, iteration: 475] training loss: 0.10499178502364319, validation_loss: 0.18237210340473975\n",
      "epoch: 9, iteration: 594] training loss: 0.10725130444439519, validation_loss: 0.1804661893326303\n",
      "epoch: 10, iteration: 118] training loss: 0.10426087117119998, validation_loss: 0.1796718058610184\n",
      "epoch: 10, iteration: 237] training loss: 0.10848352694962204, validation_loss: 0.18277511403242255\n",
      "epoch: 10, iteration: 356] training loss: 0.10492841849307052, validation_loss: 0.18115459287666386\n",
      "epoch: 10, iteration: 475] training loss: 0.10226715208978213, validation_loss: 0.17965021229678801\n",
      "epoch: 10, iteration: 594] training loss: 0.10386796996873968, validation_loss: 0.17979206602951017\n",
      "epoch: 11, iteration: 118] training loss: 0.10254347515331597, validation_loss: 0.1830254007153999\n",
      "epoch: 11, iteration: 237] training loss: 0.1036443443608885, validation_loss: 0.17947297818634822\n",
      "new best validation loss, saving..\n",
      "epoch: 11, iteration: 356] training loss: 0.10710126462102938, validation_loss: 0.1806834599477535\n",
      "epoch: 11, iteration: 475] training loss: 0.10306564370999817, validation_loss: 0.18035492865565406\n",
      "epoch: 11, iteration: 594] training loss: 0.10449430515535739, validation_loss: 0.17982004835091026\n",
      "epoch: 12, iteration: 118] training loss: 0.10470073695192818, validation_loss: 0.17996403234808336\n",
      "epoch: 12, iteration: 237] training loss: 0.10661614119630902, validation_loss: 0.17899686648793836\n",
      "new best validation loss, saving..\n",
      "epoch: 12, iteration: 356] training loss: 0.10062590235171198, validation_loss: 0.180112236798365\n",
      "epoch: 12, iteration: 475] training loss: 0.1075811692270912, validation_loss: 0.18225501889582746\n",
      "epoch: 12, iteration: 594] training loss: 0.09834025280565775, validation_loss: 0.18020243554011642\n",
      "epoch: 13, iteration: 118] training loss: 0.09977973884895068, validation_loss: 0.17869289746936048\n",
      "new best validation loss, saving..\n",
      "epoch: 13, iteration: 237] training loss: 0.10101215641538636, validation_loss: 0.17867876573101338\n",
      "new best validation loss, saving..\n",
      "epoch: 13, iteration: 356] training loss: 0.10217105872741267, validation_loss: 0.18543959686659872\n",
      "epoch: 13, iteration: 475] training loss: 0.10561645669596535, validation_loss: 0.1815511845746396\n",
      "epoch: 13, iteration: 594] training loss: 0.10461604275873729, validation_loss: 0.1798061896925387\n",
      "epoch: 14, iteration: 118] training loss: 0.10324647218114187, validation_loss: 0.18038003070291528\n",
      "epoch: 14, iteration: 237] training loss: 0.10058863692674316, validation_loss: 0.1804875481341566\n",
      "epoch: 14, iteration: 356] training loss: 0.10173436798969236, validation_loss: 0.18081346846052576\n",
      "epoch: 14, iteration: 475] training loss: 0.1045764336879013, validation_loss: 0.18404031086782494\n"
     ]
    },
    {
     "name": "stdout",
     "output_type": "stream",
     "text": [
      "epoch: 14, iteration: 594] training loss: 0.09873566488508417, validation_loss: 0.17874623724022262\n",
      "epoch: 15, iteration: 118] training loss: 0.09886539912148684, validation_loss: 0.17888176182042004\n",
      "epoch: 15, iteration: 237] training loss: 0.10109624748720843, validation_loss: 0.1813052863067722\n",
      "epoch: 15, iteration: 356] training loss: 0.09968566628439086, validation_loss: 0.17943687924409496\n",
      "epoch: 15, iteration: 475] training loss: 0.1040238587170088, validation_loss: 0.17924762517213827\n",
      "epoch: 15, iteration: 594] training loss: 0.10321016136963829, validation_loss: 0.18325060235787619\n",
      "epoch: 16, iteration: 118] training loss: 0.09723991609546316, validation_loss: 0.18258730099993453\n",
      "epoch: 16, iteration: 237] training loss: 0.1025719756902266, validation_loss: 0.17904570087883043\n",
      "epoch: 16, iteration: 356] training loss: 0.10020888537293722, validation_loss: 0.17911090257560228\n",
      "epoch: 16, iteration: 475] training loss: 0.10323832716260638, validation_loss: 0.18102109948207876\n",
      "epoch: 16, iteration: 594] training loss: 0.09960449252183698, validation_loss: 0.17964406933936272\n",
      "epoch: 17, iteration: 118] training loss: 0.09795272622664436, validation_loss: 0.18132226428259962\n",
      "epoch: 17, iteration: 237] training loss: 0.09965601525887721, validation_loss: 0.18087532695220862\n",
      "epoch: 17, iteration: 356] training loss: 0.09976153792578633, validation_loss: 0.17974146841938446\n",
      "epoch: 17, iteration: 475] training loss: 0.10356235494758903, validation_loss: 0.18046934724501937\n",
      "epoch: 17, iteration: 594] training loss: 0.10405950639553431, validation_loss: 0.1809839183082861\n",
      "epoch: 18, iteration: 118] training loss: 0.09959653007383105, validation_loss: 0.18048656363942608\n",
      "epoch: 18, iteration: 237] training loss: 0.10144311258522402, validation_loss: 0.1792354793143198\n",
      "epoch: 18, iteration: 356] training loss: 0.1008305964099259, validation_loss: 0.1789763154265303\n",
      "epoch: 18, iteration: 475] training loss: 0.09833208336925306, validation_loss: 0.18028739171091068\n",
      "epoch: 18, iteration: 594] training loss: 0.09985604343794975, validation_loss: 0.17921233387744953\n",
      "epoch: 19, iteration: 118] training loss: 0.09939558606813936, validation_loss: 0.17922242747052866\n",
      "epoch: 19, iteration: 237] training loss: 0.09763998926437202, validation_loss: 0.1795690011302507\n",
      "epoch: 19, iteration: 356] training loss: 0.09945186891225206, validation_loss: 0.17899799469557617\n",
      "epoch: 19, iteration: 475] training loss: 0.09457458928227425, validation_loss: 0.17897191197142845\n",
      "epoch: 19, iteration: 594] training loss: 0.10520408033322887, validation_loss: 0.17960166109737405\n",
      "Finished Training\n"
     ]
    }
   ],
   "source": [
    "net = Net()\n",
    "\n",
    "criterion = nn.MSELoss()\n",
    "optimizer = optim.Adam(net.parameters(), lr=1e-3)\n",
    "\n",
    "prints_per_epoch = 5\n",
    "\n",
    "verbose_k = np.floor(len(trainloader)/prints_per_epoch)\n",
    "\n",
    "\n",
    "train_losses = []\n",
    "val_losses = []\n",
    "iterations = []\n",
    "best_loss = None\n",
    "\n",
    "for epoch in range(20):\n",
    "\n",
    "    running_loss = 0.0\n",
    "    for i, data in enumerate(trainloader):\n",
    "        sequence, true_angles = data\n",
    "\n",
    "        # zero the parameter gradients\n",
    "        optimizer.zero_grad()\n",
    "\n",
    "        # forward + backward + optimize\n",
    "        predicted_angles = net(sequence)\n",
    "\n",
    "        loss = criterion(predicted_angles, true_angles)\n",
    "        loss.backward()\n",
    "        optimizer.step()\n",
    "        \n",
    "        # adding to running loss, we will output this at every verbose_k\n",
    "        running_loss += loss.item()\n",
    "        \n",
    "        if (i+1) % verbose_k == 0:   \n",
    "            train_losses.append(running_loss/verbose_k)\n",
    "            true_iter = len(trainloader)*epoch + i\n",
    "            iterations.append(true_iter)\n",
    "            net.eval()\n",
    "            validation_loss = 0\n",
    "            for k,j in enumerate(val_seqs):\n",
    "                pred_k = net(j)\n",
    "                loss_k = criterion(pred_k, val_angles_sin_cos[k]).item()\n",
    "                validation_loss += loss_k/len(val_seqs)\n",
    "            val_losses.append(validation_loss)\n",
    "            net.train()\n",
    "            print('epoch: {}, iteration: {}] training loss: {}, validation_loss: {}'.format(\n",
    "                epoch, i, running_loss/verbose_k, validation_loss))\n",
    "            \n",
    "            if best_loss == None:\n",
    "                best_loss = validation_loss\n",
    "            else:\n",
    "                if validation_loss <= min(val_losses):\n",
    "                    print('new best validation loss, saving..')\n",
    "                    best_loss = validation_loss\n",
    "                    torch.save(net.state_dict(), 'best_fcn_parameters.pt')\n",
    "\n",
    "            running_loss = 0.0\n",
    "\n",
    "print('Finished Training')"
   ]
  },
  {
   "cell_type": "code",
   "execution_count": 17,
   "metadata": {},
   "outputs": [],
   "source": [
    "net.load_state_dict(torch.load('/Users/Deathvoodoo/big_folders_docs/random/best_fcn_parameters.pt'))\n",
    "\n",
    "net.eval()\n",
    "\n",
    "validation_preds = [net(i) for i in val_seqs]"
   ]
  },
  {
   "cell_type": "code",
   "execution_count": 18,
   "metadata": {},
   "outputs": [
    {
     "data": {
      "image/png": "[encoded data removed]",
      "text/plain": [
       "<Figure size 432x288 with 1 Axes>"
      ]
     },
     "metadata": {
      "needs_background": "light"
     },
     "output_type": "display_data"
    }
   ],
   "source": [
    "plt.scatter(iterations, train_losses, label='train loss')\n",
    "plt.scatter(iterations, val_losses, label='validation loss')\n",
    "plt.legend()\n",
    "plt.show()"
   ]
  },
  {
   "cell_type": "markdown",
   "metadata": {},
   "source": [
    "Let's transform the predicted values back to angles and compare."
   ]
  },
  {
   "cell_type": "code",
   "execution_count": 19,
   "metadata": {},
   "outputs": [],
   "source": [
    "validation_preds_angles = [back_to_angle(i.detach().numpy()) for i in validation_preds] # np instead of torch"
   ]
  },
  {
   "cell_type": "code",
   "execution_count": 20,
   "metadata": {},
   "outputs": [],
   "source": [
    "import PeptideBuilder\n",
    "test_protein = val_ids_remain[49]"
   ]
  },
  {
   "cell_type": "code",
   "execution_count": 21,
   "metadata": {},
   "outputs": [],
   "source": [
    "test_angles_real = val_angles[49].numpy()\n",
    "test_angles_pred = validation_preds_angles[49]"
   ]
  },
  {
   "cell_type": "markdown",
   "metadata": {},
   "source": [
    "Need to filter the primary sequences to write pdb files. Could do this at the beginning."
   ]
  },
  {
   "cell_type": "code",
   "execution_count": 22,
   "metadata": {},
   "outputs": [],
   "source": [
    "for key in val_proteins.keys():\n",
    "    val_proteins[key]['primary'] = filter_primary(val_proteins[key]['primary'], val_proteins[key]['mask'])\n",
    "    "
   ]
  },
  {
   "cell_type": "code",
   "execution_count": 23,
   "metadata": {},
   "outputs": [],
   "source": [
    "def make_pb_structure(seq_str, angles):\n",
    "    psi = np.degrees(angles[0, :].tolist())\n",
    "    omega = np.degrees(angles[1, :].tolist())\n",
    "    phi = np.degrees(angles[2, :].tolist())\n",
    "    structure = PeptideBuilder.make_structure(seq_str, phi, psi, omega)\n",
    "    return(structure)"
   ]
  },
  {
   "cell_type": "code",
   "execution_count": 24,
   "metadata": {},
   "outputs": [],
   "source": [
    "test_structure_real = make_pb_structure(val_proteins[test_protein]['primary'], test_angles_real[0, :, :])"
   ]
  },
  {
   "cell_type": "code",
   "execution_count": 25,
   "metadata": {},
   "outputs": [],
   "source": [
    "test_structure_pred = make_pb_structure(val_proteins[test_protein]['primary'], test_angles_pred[0, :, :])"
   ]
  },
  {
   "cell_type": "code",
   "execution_count": 26,
   "metadata": {},
   "outputs": [],
   "source": [
    "import Bio.PDB\n",
    "def write_to_pdb(structure, prot_id, identifier):\n",
    "    out = Bio.PDB.PDBIO()\n",
    "    out.set_structure(structure)\n",
    "    out.save(prot_id + identifier + \".pdb\")"
   ]
  },
  {
   "cell_type": "code",
   "execution_count": 27,
   "metadata": {},
   "outputs": [],
   "source": [
    "write_to_pdb(test_structure_real, test_protein, '_real')\n",
    "write_to_pdb(test_structure_pred, test_protein, '_pred')"
   ]
  },
  {
   "cell_type": "markdown",
   "metadata": {},
   "source": [
    "We can open the saved pdb files in pymol, align them and save the image. Cyan = predicte, green = true."
   ]
  },
  {
   "cell_type": "code",
   "execution_count": 31,
   "metadata": {},
   "outputs": [
    {
     "data": {
      "image/png": "[encoded data removed]",
      "text/plain": [
       "<IPython.core.display.Image object>"
      ]
     },
     "metadata": {},
     "output_type": "display_data"
    }
   ],
   "source": [
    "from IPython.display import Image \n",
    "im = Image(filename=\"/Users/Deathvoodoo/big_folders_docs/random/90#1J2P_1_A.png\")\n",
    "display(im)"
   ]
  },
  {
   "cell_type": "markdown",
   "metadata": {},
   "source": [
    "Well, at least it sort of looks like a protein.\n",
    "<br>\n",
    "<br>\n",
    "Checking distribution of angles for the test protein."
   ]
  },
  {
   "cell_type": "code",
   "execution_count": 29,
   "metadata": {},
   "outputs": [
    {
     "name": "stdout",
     "output_type": "stream",
     "text": [
      "3.141512\n",
      "3.1413598\n"
     ]
    }
   ],
   "source": [
    "print(test_angles_pred.max())\n",
    "print(test_angles_real.max())"
   ]
  },
  {
   "cell_type": "code",
   "execution_count": 30,
   "metadata": {},
   "outputs": [
    {
     "name": "stderr",
     "output_type": "stream",
     "text": [
      "/usr/local/lib/python3.7/site-packages/matplotlib/figure.py:2366: UserWarning: This figure includes Axes that are not compatible with tight_layout, so results might be incorrect.\n",
      "  warnings.warn(\"This figure includes Axes that are not compatible \"\n"
     ]
    },
    {
     "data": {
      "image/png": "[encoded data removed]",
      "text/plain": [
       "<Figure size 432x288 with 2 Axes>"
      ]
     },
     "metadata": {
      "needs_background": "light"
     },
     "output_type": "display_data"
    }
   ],
   "source": [
    "fig, axs = plt.subplots(1, 2, sharey=True, tight_layout=True)\n",
    "n_bins=20\n",
    "axs[0].hist(test_angles_real.flatten(), bins=n_bins)\n",
    "axs[1].hist(test_angles_pred.flatten(), bins=n_bins)\n",
    "plt.show()"
   ]
  },
  {
   "cell_type": "markdown",
   "metadata": {},
   "source": [
    "Looking more like angles than previous iterations"
   ]
  }
 ],
 "metadata": {
  "kernelspec": {
   "display_name": "Python 3",
   "language": "python",
   "name": "python3"
  },
  "language_info": {
   "codemirror_mode": {
    "name": "ipython",
    "version": 3
   },
   "file_extension": ".py",
   "mimetype": "text/x-python",
   "name": "python",
   "nbconvert_exporter": "python",
   "pygments_lexer": "ipython3",
   "version": "3.7.4"
  }
 },
 "nbformat": 4,
 "nbformat_minor": 2
}
