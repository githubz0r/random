{
 "cells": [
  {
   "cell_type": "markdown",
   "metadata": {},
   "source": [
    "The problems in this chapter are too fucking hard, so only a few of them are here.\n",
    "<br>\n",
    "<br>\n",
    "Problem 2.7"
   ]
  },
  {
   "cell_type": "code",
   "execution_count": 2,
   "metadata": {},
   "outputs": [],
   "source": [
    "import numpy as np\n",
    "import matplotlib.pyplot as plt"
   ]
  },
  {
   "cell_type": "code",
   "execution_count": 26,
   "metadata": {},
   "outputs": [],
   "source": [
    "dvc_1 = 2\n",
    "dvc_2 = 5\n",
    "\n",
    "def bound_1(N, dvc):\n",
    "    return(N**dvc+1)\n",
    "def bound_2(N, dvc):\n",
    "    bound = (np.exp(N)/dvc)**dvc\n",
    "    return(bound)\n",
    "\n",
    "n = np.arange(0,50)"
   ]
  },
  {
   "cell_type": "code",
   "execution_count": 27,
   "metadata": {},
   "outputs": [],
   "source": [
    "b1_vc1 = bound_1(n, dvc_1)\n",
    "b1_vc2 = bound_1(n, dvc_2)\n",
    "b2_vc1 = bound_2(n, dvc_1)\n",
    "b2_vc2 = bound_2(n, dvc_2)"
   ]
  },
  {
   "cell_type": "code",
   "execution_count": 35,
   "metadata": {},
   "outputs": [
    {
     "data": {
      "image/png": "[encoded data removed]",
      "text/plain": [
       "<Figure size 432x432 with 4 Axes>"
      ]
     },
     "metadata": {
      "needs_background": "light"
     },
     "output_type": "display_data"
    }
   ],
   "source": [
    "fig, ax = plt.subplots(2,2, figsize=(6,6))\n",
    "ax[0,0].scatter(n, b1_vc1, label='bound1 vc1')\n",
    "ax[0,0].legend()\n",
    "ax[0,1].scatter(n, b1_vc2, label='bound2 vc2')\n",
    "ax[0,1].legend()\n",
    "ax[1,0].scatter(n, b2_vc1, label='bound1 vc1')\n",
    "ax[1,0].legend()\n",
    "ax[1,1].scatter(n, b2_vc2, label='bound2 vc2')\n",
    "ax[1,1].legend()\n",
    "\n",
    "plt.show()"
   ]
  },
  {
   "cell_type": "markdown",
   "metadata": {},
   "source": [
    "Problem 2.11"
   ]
  },
  {
   "cell_type": "code",
   "execution_count": 53,
   "metadata": {},
   "outputs": [
    {
     "name": "stdout",
     "output_type": "stream",
     "text": [
      "0.8479833036121598\n",
      "0.30053162104303327\n"
     ]
    }
   ],
   "source": [
    "def vc_eps(N, delta, dvc):\n",
    "    return(np.sqrt(8/N * np.log((4*(2*N)**dvc +1)/delta)))\n",
    "def vc_delta(N, eps, dvc):\n",
    "    delta = 4*(2*N)**dvc * np.exp(-N/8*eps**2)\n",
    "    return(delta)\n",
    "\n",
    "print(vc_eps(100, 0.1, 1))\n",
    "print(vc_eps(1000, 0.1, 1))"
   ]
  },
  {
   "cell_type": "markdown",
   "metadata": {},
   "source": [
    "Problem 2.5\n",
    "<br>\n",
    "<br> We show that $\\sum^D_{i=0} {N\\choose i} \\leq N^D +1 \\Leftrightarrow \\sum^D_{i=1} {N\\choose i} \\leq N^D $ by induction.\n",
    "<br> It's easy to see that it's true for $D=1$ and $N=1$ etc., so assume it works for $D$. Then we have \n",
    "<br> $\\sum^{D+1}_{i=1} {N\\choose i} = \\sum^{D}_{i=1} {N\\choose i} + {N\\choose D+1} \\leq N^D + {N\\choose D+1}$ i.e. we want $N^D + {N\\choose D+1} \\leq N^{D+1} \\Leftrightarrow {N\\choose D+1} \\leq N^{D+1} - N^D$ \n",
    "<br> $\\Leftrightarrow {N\\choose D+1} \\leq \\frac{N^{D+1}}{(D+1)!} \\leq N^{D+1}(1-\\frac{1}{N})$ \n",
    "<br> Assume that $N\\geq2$ and $D\\geq1$ and then observe that $\\frac{1}{(D+1)!} \\leq \\frac{1}{2} \\leq (1-\\frac{1}{N}) < 1$ thus the inequality holds and the last step of the induction holds.\n"
   ]
  },
  {
   "cell_type": "code",
   "execution_count": null,
   "metadata": {},
   "outputs": [],
   "source": []
  }
 ],
 "metadata": {
  "kernelspec": {
   "display_name": "Python 3",
   "language": "python",
   "name": "python3"
  },
  "language_info": {
   "codemirror_mode": {
    "name": "ipython",
    "version": 3
   },
   "file_extension": ".py",
   "mimetype": "text/x-python",
   "name": "python",
   "nbconvert_exporter": "python",
   "pygments_lexer": "ipython3",
   "version": "3.7.4"
  }
 },
 "nbformat": 4,
 "nbformat_minor": 2
}
